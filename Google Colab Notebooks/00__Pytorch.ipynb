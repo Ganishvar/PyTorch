{
  "nbformat": 4,
  "nbformat_minor": 0,
  "metadata": {
    "colab": {
      "provenance": [],
      "gpuType": "T4",
      "collapsed_sections": [
        "91oafY4dme76",
        "Wm9NageaoSr-",
        "X7pigfxd_p1l",
        "lon_2Jg5CQn-",
        "ttjFB1_iDH5w",
        "8sydo-ynEc9M",
        "UXVx3MIwJ1ft",
        "65PXWC8XR2wy",
        "WHaau8RlTdBc",
        "3iGCTDzXTkpk",
        "59Gs4RldU-pf",
        "YOV963HDEsbr",
        "PiS5SacGGMmw",
        "dSdRswbbKJx6",
        "CCJvk9yJNXMh",
        "8yWajWuePcgB"
      ]
    },
    "kernelspec": {
      "name": "python3",
      "display_name": "Python 3"
    },
    "language_info": {
      "name": "python"
    },
    "accelerator": "GPU"
  },
  "cells": [
    {
      "cell_type": "markdown",
      "source": [
        "#Pytorch Fundamentals (Libraries)\n"
      ],
      "metadata": {
        "id": "91oafY4dme76"
      }
    },
    {
      "cell_type": "markdown",
      "source": [
        "https://www.learnpytorch.io/"
      ],
      "metadata": {
        "id": "lY3-U8VQBoiN"
      }
    },
    {
      "cell_type": "code",
      "source": [
        "print('Im Ganishvar')\n",
        "!nvidia-smi"
      ],
      "metadata": {
        "colab": {
          "base_uri": "https://localhost:8080/"
        },
        "id": "uAGoNKhKmgyS",
        "outputId": "0b2b7842-2721-410c-9034-b79d3ff073c7"
      },
      "execution_count": null,
      "outputs": [
        {
          "output_type": "stream",
          "name": "stdout",
          "text": [
            "Im Ganishvar\n",
            "/bin/bash: nvidia-smi: command not found\n"
          ]
        }
      ]
    },
    {
      "cell_type": "code",
      "source": [
        "import torch\n",
        "import pandas as pd\n",
        "import numpy as np\n",
        "import matplotlib.pyplot as plt\n",
        "print(torch.__version__)\n"
      ],
      "metadata": {
        "colab": {
          "base_uri": "https://localhost:8080/"
        },
        "id": "VDec8ZHfnFEw",
        "outputId": "00bc502f-598c-4aa7-dc89-12c2a865835c"
      },
      "execution_count": null,
      "outputs": [
        {
          "output_type": "stream",
          "name": "stdout",
          "text": [
            "2.0.1+cu118\n"
          ]
        }
      ]
    },
    {
      "cell_type": "markdown",
      "source": [
        "# Introduction to tensors\n"
      ],
      "metadata": {
        "id": "Wm9NageaoSr-"
      }
    },
    {
      "cell_type": "code",
      "source": [
        "# SCALAR\n",
        "scalar=torch.tensor(7)\n",
        "scalar\n",
        "## the above is how tensors are created torch.tensor()"
      ],
      "metadata": {
        "colab": {
          "base_uri": "https://localhost:8080/"
        },
        "id": "GbQO0gOQ67vp",
        "outputId": "6c21baac-953c-4603-a531-0cb2d5e8f562"
      },
      "execution_count": null,
      "outputs": [
        {
          "output_type": "execute_result",
          "data": {
            "text/plain": [
              "tensor(7)"
            ]
          },
          "metadata": {},
          "execution_count": 3
        }
      ]
    },
    {
      "cell_type": "code",
      "source": [
        "scalar.ndim  ## to get its dimensions"
      ],
      "metadata": {
        "id": "CbtcrDIu7Fee",
        "colab": {
          "base_uri": "https://localhost:8080/"
        },
        "outputId": "81d1f75a-a717-42d0-ba78-00708a4f1834"
      },
      "execution_count": null,
      "outputs": [
        {
          "output_type": "execute_result",
          "data": {
            "text/plain": [
              "0"
            ]
          },
          "metadata": {},
          "execution_count": 4
        }
      ]
    },
    {
      "cell_type": "code",
      "source": [
        "scalar.item() ## gets the value of tensor"
      ],
      "metadata": {
        "colab": {
          "base_uri": "https://localhost:8080/"
        },
        "id": "40RPy-fM8FIr",
        "outputId": "0a4d6692-f667-435a-d5c2-ae3dfdfdb04f"
      },
      "execution_count": null,
      "outputs": [
        {
          "output_type": "execute_result",
          "data": {
            "text/plain": [
              "7"
            ]
          },
          "metadata": {},
          "execution_count": 5
        }
      ]
    },
    {
      "cell_type": "code",
      "source": [
        "scalar.ndim,scalar.item() ## can use comma to make it into single line"
      ],
      "metadata": {
        "colab": {
          "base_uri": "https://localhost:8080/"
        },
        "id": "YM_VKoTiBa-p",
        "outputId": "14cdc56d-43ed-47c5-8fc3-c862656d1964"
      },
      "execution_count": null,
      "outputs": [
        {
          "output_type": "execute_result",
          "data": {
            "text/plain": [
              "(0, 7)"
            ]
          },
          "metadata": {},
          "execution_count": 6
        }
      ]
    },
    {
      "cell_type": "code",
      "source": [
        "vector=torch.tensor([7,7]) ## creating a vector using tensor command\n",
        "vector.ndim ## ndim just counts number of sq brackets"
      ],
      "metadata": {
        "colab": {
          "base_uri": "https://localhost:8080/"
        },
        "id": "-ZmT-Ron8KrJ",
        "outputId": "f254cf3f-938b-4bd4-ef08-97daa87a9a31"
      },
      "execution_count": null,
      "outputs": [
        {
          "output_type": "execute_result",
          "data": {
            "text/plain": [
              "1"
            ]
          },
          "metadata": {},
          "execution_count": 7
        }
      ]
    },
    {
      "cell_type": "code",
      "source": [
        "vector.shape ## no of elements"
      ],
      "metadata": {
        "colab": {
          "base_uri": "https://localhost:8080/"
        },
        "id": "EmrVUziy8Y-G",
        "outputId": "02cd5a0d-11fe-4c20-ada1-7d6ba712d9a6"
      },
      "execution_count": null,
      "outputs": [
        {
          "output_type": "execute_result",
          "data": {
            "text/plain": [
              "torch.Size([2])"
            ]
          },
          "metadata": {},
          "execution_count": 8
        }
      ]
    },
    {
      "cell_type": "code",
      "source": [
        "Matrix = torch.tensor([[7,8],[9,10]])\n",
        "Matrix"
      ],
      "metadata": {
        "colab": {
          "base_uri": "https://localhost:8080/"
        },
        "id": "dIH7p92Q8jkH",
        "outputId": "4e8424a2-daa4-484e-e3b4-cf16f75664d7"
      },
      "execution_count": null,
      "outputs": [
        {
          "output_type": "execute_result",
          "data": {
            "text/plain": [
              "tensor([[ 7,  8],\n",
              "        [ 9, 10]])"
            ]
          },
          "metadata": {},
          "execution_count": 9
        }
      ]
    },
    {
      "cell_type": "code",
      "source": [
        "Matrix.ndim"
      ],
      "metadata": {
        "colab": {
          "base_uri": "https://localhost:8080/"
        },
        "id": "zSa2uHbk9G4_",
        "outputId": "63c8df1a-39cb-4ca8-fc12-43e76dfcf13f"
      },
      "execution_count": null,
      "outputs": [
        {
          "output_type": "execute_result",
          "data": {
            "text/plain": [
              "2"
            ]
          },
          "metadata": {},
          "execution_count": 10
        }
      ]
    },
    {
      "cell_type": "code",
      "source": [
        "Matrix.shape\n"
      ],
      "metadata": {
        "colab": {
          "base_uri": "https://localhost:8080/"
        },
        "id": "ui_XUREO8zRR",
        "outputId": "03be3ed8-dd82-4a8f-8d5d-c82a6d9168fe"
      },
      "execution_count": null,
      "outputs": [
        {
          "output_type": "execute_result",
          "data": {
            "text/plain": [
              "torch.Size([2, 2])"
            ]
          },
          "metadata": {},
          "execution_count": 11
        }
      ]
    },
    {
      "cell_type": "code",
      "source": [
        "Matrix[0]"
      ],
      "metadata": {
        "colab": {
          "base_uri": "https://localhost:8080/"
        },
        "id": "ipvs9Tbm9IFg",
        "outputId": "c940409e-1e80-4bcb-c1d1-e992fc5b1eb0"
      },
      "execution_count": null,
      "outputs": [
        {
          "output_type": "execute_result",
          "data": {
            "text/plain": [
              "tensor([7, 8])"
            ]
          },
          "metadata": {},
          "execution_count": 12
        }
      ]
    },
    {
      "cell_type": "code",
      "source": [
        "## Tensor\n",
        "Tensor=torch.tensor([[[1,2,3],[1,2,3],[4,5,6]]])\n",
        "Tensor ## just like 3D array"
      ],
      "metadata": {
        "colab": {
          "base_uri": "https://localhost:8080/"
        },
        "id": "q2DobAe89NlX",
        "outputId": "0e146735-d8be-45b6-e746-4637bc405198"
      },
      "execution_count": null,
      "outputs": [
        {
          "output_type": "execute_result",
          "data": {
            "text/plain": [
              "tensor([[[1, 2, 3],\n",
              "         [1, 2, 3],\n",
              "         [4, 5, 6]]])"
            ]
          },
          "metadata": {},
          "execution_count": 13
        }
      ]
    },
    {
      "cell_type": "code",
      "source": [
        "Tensor.ndim"
      ],
      "metadata": {
        "colab": {
          "base_uri": "https://localhost:8080/"
        },
        "id": "YPMd5-Ab9vlL",
        "outputId": "dd1a5920-3fd6-4aec-c18a-6f5f96a52bc7"
      },
      "execution_count": null,
      "outputs": [
        {
          "output_type": "execute_result",
          "data": {
            "text/plain": [
              "3"
            ]
          },
          "metadata": {},
          "execution_count": 14
        }
      ]
    },
    {
      "cell_type": "code",
      "source": [
        "Tensor.shape ## 1 - is the page , 3,3 are the no\n",
        "             ## of elements in that page number"
      ],
      "metadata": {
        "colab": {
          "base_uri": "https://localhost:8080/"
        },
        "id": "qf5lgu5c9zMI",
        "outputId": "03af78ac-5a86-44d7-823b-064e7aee192a"
      },
      "execution_count": null,
      "outputs": [
        {
          "output_type": "execute_result",
          "data": {
            "text/plain": [
              "torch.Size([1, 3, 3])"
            ]
          },
          "metadata": {},
          "execution_count": 15
        }
      ]
    },
    {
      "cell_type": "code",
      "source": [
        "Tensor.size() ## it shld have brackets because its a function"
      ],
      "metadata": {
        "colab": {
          "base_uri": "https://localhost:8080/"
        },
        "id": "EDnB7-14I1Ze",
        "outputId": "a7617398-3e7b-48fb-f582-457084a3a97d"
      },
      "execution_count": null,
      "outputs": [
        {
          "output_type": "execute_result",
          "data": {
            "text/plain": [
              "torch.Size([1, 3, 3])"
            ]
          },
          "metadata": {},
          "execution_count": 16
        }
      ]
    },
    {
      "cell_type": "markdown",
      "source": [],
      "metadata": {
        "id": "masYxysJI1Hg"
      }
    },
    {
      "cell_type": "code",
      "source": [
        "Tensor[0,2,2]"
      ],
      "metadata": {
        "colab": {
          "base_uri": "https://localhost:8080/"
        },
        "id": "oN3mBM-m90Rz",
        "outputId": "436e99ba-f0c3-4bbd-c400-ec861e9492db"
      },
      "execution_count": null,
      "outputs": [
        {
          "output_type": "execute_result",
          "data": {
            "text/plain": [
              "tensor(6)"
            ]
          },
          "metadata": {},
          "execution_count": 17
        }
      ]
    },
    {
      "cell_type": "markdown",
      "source": [
        "# Random Tensors and Datatype Operation\n"
      ],
      "metadata": {
        "id": "X7pigfxd_p1l"
      }
    },
    {
      "cell_type": "markdown",
      "source": [
        "Why random tensors ?  \n",
        "Random tensors are important because the way many neural networks learn is that\n",
        "they Start with tensors full Of random numbers and then adjust those random numbers to better represent the data.  \n",
        "\n",
        "look at data - Start with random number-update random numbers-look at data - update random numbers\n",
        "\n",
        "\n",
        "\n"
      ],
      "metadata": {
        "id": "_zqtFdiJ-sKT"
      }
    },
    {
      "cell_type": "code",
      "source": [
        "random_tensor=torch.rand(3,4)\n",
        "random_tensor ## 2- pages , 4 - columns , 3 - rows"
      ],
      "metadata": {
        "colab": {
          "base_uri": "https://localhost:8080/"
        },
        "id": "vQ2cnB_9AWiE",
        "outputId": "1effa27a-c6f7-41ef-a745-c41702bedd24"
      },
      "execution_count": null,
      "outputs": [
        {
          "output_type": "execute_result",
          "data": {
            "text/plain": [
              "tensor([[0.4860, 0.8011, 0.1721, 0.1040],\n",
              "        [0.8332, 0.0206, 0.5627, 0.7530],\n",
              "        [0.9357, 0.5391, 0.8575, 0.0802]])"
            ]
          },
          "metadata": {},
          "execution_count": 18
        }
      ]
    },
    {
      "cell_type": "code",
      "source": [
        "random_tensor.shape,random_tensor.ndim"
      ],
      "metadata": {
        "colab": {
          "base_uri": "https://localhost:8080/"
        },
        "id": "OW0Nl9CAAf2i",
        "outputId": "4ed84d0f-b3e7-4b8c-f93e-57df00ebf4d5"
      },
      "execution_count": null,
      "outputs": [
        {
          "output_type": "execute_result",
          "data": {
            "text/plain": [
              "(torch.Size([3, 4]), 2)"
            ]
          },
          "metadata": {},
          "execution_count": 19
        }
      ]
    },
    {
      "cell_type": "code",
      "source": [
        "random_image_size_tensor=torch.rand(size=(224,224,3)) ## can also not use size\n",
        "random_image_size_tensor.shape,random_image_size_tensor.ndim"
      ],
      "metadata": {
        "colab": {
          "base_uri": "https://localhost:8080/"
        },
        "id": "r_G8gAKoAxA3",
        "outputId": "5b606711-83fc-447e-dfcd-69a2f6397d8f"
      },
      "execution_count": null,
      "outputs": [
        {
          "output_type": "execute_result",
          "data": {
            "text/plain": [
              "(torch.Size([224, 224, 3]), 3)"
            ]
          },
          "metadata": {},
          "execution_count": 20
        }
      ]
    },
    {
      "cell_type": "markdown",
      "source": [
        "## Zeros and Ones"
      ],
      "metadata": {
        "id": "lon_2Jg5CQn-"
      }
    },
    {
      "cell_type": "code",
      "source": [
        "zeros=torch.zeros(3,4)\n",
        "zeros\n"
      ],
      "metadata": {
        "colab": {
          "base_uri": "https://localhost:8080/"
        },
        "id": "jH0Upq7YCT9_",
        "outputId": "ccaf401d-9f9a-4aaa-8cf2-115e4fbfaf9a"
      },
      "execution_count": null,
      "outputs": [
        {
          "output_type": "execute_result",
          "data": {
            "text/plain": [
              "tensor([[0., 0., 0., 0.],\n",
              "        [0., 0., 0., 0.],\n",
              "        [0., 0., 0., 0.]])"
            ]
          },
          "metadata": {},
          "execution_count": 21
        }
      ]
    },
    {
      "cell_type": "code",
      "source": [
        "zeros*random_tensor"
      ],
      "metadata": {
        "colab": {
          "base_uri": "https://localhost:8080/"
        },
        "id": "OdwCsdvaCYMb",
        "outputId": "7d293152-9805-4b69-b6e6-6f6e4088963c"
      },
      "execution_count": null,
      "outputs": [
        {
          "output_type": "execute_result",
          "data": {
            "text/plain": [
              "tensor([[0., 0., 0., 0.],\n",
              "        [0., 0., 0., 0.],\n",
              "        [0., 0., 0., 0.]])"
            ]
          },
          "metadata": {},
          "execution_count": 22
        }
      ]
    },
    {
      "cell_type": "code",
      "source": [
        "ones=torch.ones(3,4)\n",
        "ones"
      ],
      "metadata": {
        "colab": {
          "base_uri": "https://localhost:8080/"
        },
        "id": "eDEreLLQCrIs",
        "outputId": "de6f870d-0f94-4580-91f9-cd9dfb9d3f0a"
      },
      "execution_count": null,
      "outputs": [
        {
          "output_type": "execute_result",
          "data": {
            "text/plain": [
              "tensor([[1., 1., 1., 1.],\n",
              "        [1., 1., 1., 1.],\n",
              "        [1., 1., 1., 1.]])"
            ]
          },
          "metadata": {},
          "execution_count": 23
        }
      ]
    },
    {
      "cell_type": "code",
      "source": [
        "ones.dtype  ## we always using float"
      ],
      "metadata": {
        "colab": {
          "base_uri": "https://localhost:8080/"
        },
        "id": "fi3Bn6LMC6Ez",
        "outputId": "9def2932-5a6f-4f66-9be5-df0b267c7420"
      },
      "execution_count": null,
      "outputs": [
        {
          "output_type": "execute_result",
          "data": {
            "text/plain": [
              "torch.float32"
            ]
          },
          "metadata": {},
          "execution_count": 24
        }
      ]
    },
    {
      "cell_type": "markdown",
      "source": [
        "##Creating Ranges"
      ],
      "metadata": {
        "id": "ttjFB1_iDH5w"
      }
    },
    {
      "cell_type": "code",
      "source": [
        "# Use torch.arange()\n",
        "zero_to_ten=torch.arange(0,11,2)\n",
        "one_to_ten=torch.arange(1,11)  ## ends at end-1\n",
        "zero_to_ten,one_to_ten\n",
        "## 0 - start number\n",
        "## 11 - end number\n",
        "## 2 - steps"
      ],
      "metadata": {
        "colab": {
          "base_uri": "https://localhost:8080/"
        },
        "id": "XTQmyfnVDJjh",
        "outputId": "91550ef9-1d83-4203-922e-fee1f6503661"
      },
      "execution_count": null,
      "outputs": [
        {
          "output_type": "execute_result",
          "data": {
            "text/plain": [
              "(tensor([ 0,  2,  4,  6,  8, 10]),\n",
              " tensor([ 1,  2,  3,  4,  5,  6,  7,  8,  9, 10]))"
            ]
          },
          "metadata": {},
          "execution_count": 25
        }
      ]
    },
    {
      "cell_type": "code",
      "source": [
        "#creating tensors like\n",
        "ten_zeros=torch.zeros_like(input=one_to_ten)\n",
        "ten_zeros\n",
        " # input  takes a example and we ask it to make zeros like eg thus output"
      ],
      "metadata": {
        "colab": {
          "base_uri": "https://localhost:8080/"
        },
        "id": "WKPYMWAXDQYP",
        "outputId": "6c7def76-07cf-4d7c-d8d5-dfa938488638"
      },
      "execution_count": null,
      "outputs": [
        {
          "output_type": "execute_result",
          "data": {
            "text/plain": [
              "tensor([0, 0, 0, 0, 0, 0, 0, 0, 0, 0])"
            ]
          },
          "metadata": {},
          "execution_count": 26
        }
      ]
    },
    {
      "cell_type": "markdown",
      "source": [
        "##Tensor datatypes\n",
        "\n",
        "**Notes**= Tensor datatypes might be the biggest errors we might run into in pytorch and deeplearning eg\n",
        "\n",
        "\n",
        "1. Tensors not right Datatype\n",
        "2. Tensors not Right Shape\n",
        "3. Tensors not on the right device\n",
        "\n"
      ],
      "metadata": {
        "id": "8sydo-ynEc9M"
      }
    },
    {
      "cell_type": "code",
      "source": [
        "float_32_tensor=torch.tensor([3,6,9],\n",
        "                             dtype=None,\n",
        "                             device=None,\n",
        "                             requires_grad=False)\n",
        "float_32_tensor\n",
        "##  dtype - we can specify the datatype\n",
        "## device - what gpu or device we on , cuda might be better for GPU\n",
        "##Required grad - to track gradients or not"
      ],
      "metadata": {
        "colab": {
          "base_uri": "https://localhost:8080/"
        },
        "id": "Dk8loISZEfuq",
        "outputId": "b76d468a-b23c-4cf8-f883-450aecb2ac43"
      },
      "execution_count": null,
      "outputs": [
        {
          "output_type": "execute_result",
          "data": {
            "text/plain": [
              "tensor([3, 6, 9])"
            ]
          },
          "metadata": {},
          "execution_count": 27
        }
      ]
    },
    {
      "cell_type": "code",
      "source": [
        "float_32_tensor.dtype"
      ],
      "metadata": {
        "colab": {
          "base_uri": "https://localhost:8080/"
        },
        "id": "qEKG_a57E2dK",
        "outputId": "053f8465-c881-414d-8099-79b5f925f1ba"
      },
      "execution_count": null,
      "outputs": [
        {
          "output_type": "execute_result",
          "data": {
            "text/plain": [
              "torch.int64"
            ]
          },
          "metadata": {},
          "execution_count": 28
        }
      ]
    },
    {
      "cell_type": "code",
      "source": [
        "float_16_tensor=float_32_tensor.type(torch.float16)\n",
        "float_16_tensor"
      ],
      "metadata": {
        "colab": {
          "base_uri": "https://localhost:8080/"
        },
        "id": "rYaz0Wy5E96l",
        "outputId": "de8c3bf5-69f5-4a68-85cb-d3f45bc8b618"
      },
      "execution_count": null,
      "outputs": [
        {
          "output_type": "execute_result",
          "data": {
            "text/plain": [
              "tensor([3., 6., 9.], dtype=torch.float16)"
            ]
          },
          "metadata": {},
          "execution_count": 29
        }
      ]
    },
    {
      "cell_type": "code",
      "source": [
        "float_16_tensor*float_32_tensor ## wont throw an error"
      ],
      "metadata": {
        "colab": {
          "base_uri": "https://localhost:8080/"
        },
        "id": "NDStMJRBGrdI",
        "outputId": "5b1d8279-69e2-4c86-93a5-33430bcf1aaf"
      },
      "execution_count": null,
      "outputs": [
        {
          "output_type": "execute_result",
          "data": {
            "text/plain": [
              "tensor([ 9., 36., 81.], dtype=torch.float16)"
            ]
          },
          "metadata": {},
          "execution_count": 30
        }
      ]
    },
    {
      "cell_type": "code",
      "source": [
        "int_32_tensor=torch.tensor([3,6,9],dtype=torch.int32)\n",
        "int_32_tensor"
      ],
      "metadata": {
        "colab": {
          "base_uri": "https://localhost:8080/"
        },
        "id": "0vEL6AebHEKZ",
        "outputId": "099a824f-f5b4-43af-b70d-dff456187bca"
      },
      "execution_count": null,
      "outputs": [
        {
          "output_type": "execute_result",
          "data": {
            "text/plain": [
              "tensor([3, 6, 9], dtype=torch.int32)"
            ]
          },
          "metadata": {},
          "execution_count": 31
        }
      ]
    },
    {
      "cell_type": "code",
      "source": [
        "float_32_tensor*int_32_tensor ## still works"
      ],
      "metadata": {
        "colab": {
          "base_uri": "https://localhost:8080/"
        },
        "id": "X5PbahHbHT4k",
        "outputId": "cbed154d-6c47-4ede-9d12-699f118bcab6"
      },
      "execution_count": null,
      "outputs": [
        {
          "output_type": "execute_result",
          "data": {
            "text/plain": [
              "tensor([ 9, 36, 81])"
            ]
          },
          "metadata": {},
          "execution_count": 32
        }
      ]
    },
    {
      "cell_type": "markdown",
      "source": [
        "## Getting Tensor Info"
      ],
      "metadata": {
        "id": "A0ZaAFYAJkhK"
      }
    },
    {
      "cell_type": "code",
      "source": [
        "tensor=torch.rand(5,5,dtype=torch.float16)\n",
        "tensor\n",
        "print(f\"Datatype of tensor :{tensor.dtype}\")\n",
        "print(f\"Shape of tensor :{tensor.shape}\")\n",
        "print(f\"Device the tensor is on :{tensor.device}\")"
      ],
      "metadata": {
        "colab": {
          "base_uri": "https://localhost:8080/"
        },
        "id": "s6jLTfDqH8ub",
        "outputId": "7f237866-bf5f-4afb-9781-712eb4fc5f39"
      },
      "execution_count": null,
      "outputs": [
        {
          "output_type": "stream",
          "name": "stdout",
          "text": [
            "Datatype of tensor :torch.float16\n",
            "Shape of tensor :torch.Size([5, 5])\n",
            "Device the tensor is on :cpu\n"
          ]
        }
      ]
    },
    {
      "cell_type": "markdown",
      "source": [
        "# Tensor Operations"
      ],
      "metadata": {
        "id": "UXVx3MIwJ1ft"
      }
    },
    {
      "cell_type": "markdown",
      "source": [
        "* Addition\n",
        "* Subtraction\n",
        "* Multiplication\n",
        "* Divison\n",
        "* Matrix Multiplication\n",
        "* Matrix Dot Product"
      ],
      "metadata": {
        "id": "Ztq_hZmOJ6z7"
      }
    },
    {
      "cell_type": "code",
      "source": [
        "# Creating a Tensor\n",
        "tensor = torch.rand(2,4)\n",
        "tensor"
      ],
      "metadata": {
        "colab": {
          "base_uri": "https://localhost:8080/"
        },
        "id": "BoAH82HqKFdb",
        "outputId": "5a8b811c-5dd4-474e-f445-e00932b0b29c"
      },
      "execution_count": null,
      "outputs": [
        {
          "output_type": "execute_result",
          "data": {
            "text/plain": [
              "tensor([[0.2245, 0.4005, 0.9955, 0.6579],\n",
              "        [0.6836, 0.3565, 0.6258, 0.0386]])"
            ]
          },
          "metadata": {},
          "execution_count": 34
        }
      ]
    },
    {
      "cell_type": "code",
      "source": [
        "## tensor Addition\n",
        "tensor + 100"
      ],
      "metadata": {
        "colab": {
          "base_uri": "https://localhost:8080/"
        },
        "id": "0RiaG_PKKYEQ",
        "outputId": "ea95b289-f492-4e96-f635-45381d16e712"
      },
      "execution_count": null,
      "outputs": [
        {
          "output_type": "execute_result",
          "data": {
            "text/plain": [
              "tensor([[100.2245, 100.4005, 100.9955, 100.6579],\n",
              "        [100.6836, 100.3565, 100.6258, 100.0386]])"
            ]
          },
          "metadata": {},
          "execution_count": 35
        }
      ]
    },
    {
      "cell_type": "code",
      "source": [
        "##Tensor Multiplication ( ELEMENT WISE)\n",
        "tensor * 10 , tensor * tensor"
      ],
      "metadata": {
        "colab": {
          "base_uri": "https://localhost:8080/"
        },
        "id": "Qe-SAgQIKd9A",
        "outputId": "998c94e9-748e-4149-96fc-edb4f35d6046"
      },
      "execution_count": null,
      "outputs": [
        {
          "output_type": "execute_result",
          "data": {
            "text/plain": [
              "(tensor([[2.2449, 4.0054, 9.9547, 6.5787],\n",
              "         [6.8361, 3.5652, 6.2583, 0.3864]]),\n",
              " tensor([[0.0504, 0.1604, 0.9910, 0.4328],\n",
              "         [0.4673, 0.1271, 0.3917, 0.0015]]))"
            ]
          },
          "metadata": {},
          "execution_count": 36
        }
      ]
    },
    {
      "cell_type": "code",
      "source": [
        "## Tensor Divison\n",
        "tensor / 10"
      ],
      "metadata": {
        "colab": {
          "base_uri": "https://localhost:8080/"
        },
        "id": "_YossaYuLCie",
        "outputId": "b504c556-85ac-41f8-a287-5801b7e45ffd"
      },
      "execution_count": null,
      "outputs": [
        {
          "output_type": "execute_result",
          "data": {
            "text/plain": [
              "tensor([[0.0224, 0.0401, 0.0995, 0.0658],\n",
              "        [0.0684, 0.0357, 0.0626, 0.0039]])"
            ]
          },
          "metadata": {},
          "execution_count": 37
        }
      ]
    },
    {
      "cell_type": "code",
      "source": [
        "## Tensor Subtraction\n",
        "tensor-2"
      ],
      "metadata": {
        "colab": {
          "base_uri": "https://localhost:8080/"
        },
        "id": "bCB9wdv9Kk3L",
        "outputId": "6e782a7e-4f53-45ab-8069-0ae5ade5bb2d"
      },
      "execution_count": null,
      "outputs": [
        {
          "output_type": "execute_result",
          "data": {
            "text/plain": [
              "tensor([[-1.7755, -1.5995, -1.0045, -1.3421],\n",
              "        [-1.3164, -1.6435, -1.3742, -1.9614]])"
            ]
          },
          "metadata": {},
          "execution_count": 38
        }
      ]
    },
    {
      "cell_type": "code",
      "source": [
        "# Inbuilt PYTORCH functions\n",
        "torch.mul(tensor,2)"
      ],
      "metadata": {
        "colab": {
          "base_uri": "https://localhost:8080/"
        },
        "id": "rgNmLYUDKvdh",
        "outputId": "23091231-54a0-478c-be7c-f941c71c8ffd"
      },
      "execution_count": null,
      "outputs": [
        {
          "output_type": "execute_result",
          "data": {
            "text/plain": [
              "tensor([[0.4490, 0.8011, 1.9909, 1.3157],\n",
              "        [1.3672, 0.7130, 1.2517, 0.0773]])"
            ]
          },
          "metadata": {},
          "execution_count": 39
        }
      ]
    },
    {
      "cell_type": "code",
      "source": [
        "torch.add(tensor,10)"
      ],
      "metadata": {
        "colab": {
          "base_uri": "https://localhost:8080/"
        },
        "id": "v8Ievq33K3Jw",
        "outputId": "7eb6dd52-2eab-43e5-b177-c16e7dde3f7a"
      },
      "execution_count": null,
      "outputs": [
        {
          "output_type": "execute_result",
          "data": {
            "text/plain": [
              "tensor([[10.2245, 10.4005, 10.9955, 10.6579],\n",
              "        [10.6836, 10.3565, 10.6258, 10.0386]])"
            ]
          },
          "metadata": {},
          "execution_count": 40
        }
      ]
    },
    {
      "cell_type": "code",
      "source": [
        "# Matrix Multiplication\n",
        "torch.matmul(tensor,tensor.T)\n",
        "## INNER DIMENSION SIZE SHOULD MATCH\n",
        "## OUTER DIMENSION IS THE OUTPUT SIZE"
      ],
      "metadata": {
        "colab": {
          "base_uri": "https://localhost:8080/"
        },
        "id": "g6zlRS9FK8ud",
        "outputId": "8befb972-bc15-4cb9-af85-05bea184612d"
      },
      "execution_count": null,
      "outputs": [
        {
          "output_type": "execute_result",
          "data": {
            "text/plain": [
              "tensor([[1.6346, 0.9447],\n",
              "        [0.9447, 0.9876]])"
            ]
          },
          "metadata": {},
          "execution_count": 41
        }
      ]
    },
    {
      "cell_type": "code",
      "source": [
        "%%time\n",
        "value=0\n",
        "for i in range(len(tensor)):\n",
        "  value  += tensor[i]*tensor[i]\n",
        "print(value)\n"
      ],
      "metadata": {
        "colab": {
          "base_uri": "https://localhost:8080/"
        },
        "id": "XU1b8Z4DLR6P",
        "outputId": "798bdfa4-ff26-472a-bd3c-1f4d3baef736"
      },
      "execution_count": null,
      "outputs": [
        {
          "output_type": "stream",
          "name": "stdout",
          "text": [
            "tensor([0.5177, 0.2875, 1.3826, 0.4343])\n",
            "CPU times: user 1.06 ms, sys: 1.01 ms, total: 2.06 ms\n",
            "Wall time: 2.45 ms\n"
          ]
        }
      ]
    },
    {
      "cell_type": "code",
      "source": [
        "%%time\n",
        "torch.matmul(tensor,tensor.T) ##just to see the compilation speed"
      ],
      "metadata": {
        "colab": {
          "base_uri": "https://localhost:8080/"
        },
        "id": "mdz7sNziPLcu",
        "outputId": "d8399647-adb4-419e-bc65-0c911dedd2cd"
      },
      "execution_count": null,
      "outputs": [
        {
          "output_type": "stream",
          "name": "stdout",
          "text": [
            "CPU times: user 148 µs, sys: 0 ns, total: 148 µs\n",
            "Wall time: 358 µs\n"
          ]
        },
        {
          "output_type": "execute_result",
          "data": {
            "text/plain": [
              "tensor([[1.6346, 0.9447],\n",
              "        [0.9447, 0.9876]])"
            ]
          },
          "metadata": {},
          "execution_count": 43
        }
      ]
    },
    {
      "cell_type": "code",
      "source": [
        "## Transpose of Matrix\n",
        "tensor_A = torch.rand(2,3)\n",
        "tensor_A"
      ],
      "metadata": {
        "colab": {
          "base_uri": "https://localhost:8080/"
        },
        "id": "SU3NMEFlQz-d",
        "outputId": "a1496c7e-393c-4a5b-bc68-866e16d98baa"
      },
      "execution_count": null,
      "outputs": [
        {
          "output_type": "execute_result",
          "data": {
            "text/plain": [
              "tensor([[0.0419, 0.8936, 0.5664],\n",
              "        [0.7755, 0.5028, 0.8755]])"
            ]
          },
          "metadata": {},
          "execution_count": 44
        }
      ]
    },
    {
      "cell_type": "code",
      "source": [
        "tensor_AT=tensor_A.T  ## Transpose\n",
        "tensor_AT"
      ],
      "metadata": {
        "colab": {
          "base_uri": "https://localhost:8080/"
        },
        "id": "GjLyd0IHRIH3",
        "outputId": "9621c855-7323-44ca-a5a6-a3d768d568e2"
      },
      "execution_count": null,
      "outputs": [
        {
          "output_type": "execute_result",
          "data": {
            "text/plain": [
              "tensor([[0.0419, 0.7755],\n",
              "        [0.8936, 0.5028],\n",
              "        [0.5664, 0.8755]])"
            ]
          },
          "metadata": {},
          "execution_count": 45
        }
      ]
    },
    {
      "cell_type": "code",
      "source": [],
      "metadata": {
        "id": "NyPLr1pZROct"
      },
      "execution_count": null,
      "outputs": []
    },
    {
      "cell_type": "markdown",
      "source": [
        "# Tensor Aggregation and Numpy Usage"
      ],
      "metadata": {
        "id": "65PXWC8XR2wy"
      }
    },
    {
      "cell_type": "markdown",
      "source": [
        "## Finding Max , min , mean , sum and issue in type conversion"
      ],
      "metadata": {
        "id": "WHaau8RlTdBc"
      }
    },
    {
      "cell_type": "code",
      "source": [
        "## creating a Tensor\n",
        "x=torch.arange(0,101,10)\n",
        "x\n"
      ],
      "metadata": {
        "colab": {
          "base_uri": "https://localhost:8080/"
        },
        "id": "0MY-gErFR6Ke",
        "outputId": "50523d2a-9661-4beb-b8e9-2124fd19cd55"
      },
      "execution_count": null,
      "outputs": [
        {
          "output_type": "execute_result",
          "data": {
            "text/plain": [
              "tensor([  0,  10,  20,  30,  40,  50,  60,  70,  80,  90, 100])"
            ]
          },
          "metadata": {},
          "execution_count": 46
        }
      ]
    },
    {
      "cell_type": "code",
      "source": [
        "## Min and Max\n",
        "torch.min(x) , torch.max(x)"
      ],
      "metadata": {
        "colab": {
          "base_uri": "https://localhost:8080/"
        },
        "id": "V-1Q1zh5R_lX",
        "outputId": "b9e89777-ff30-4879-e256-fc79c920d995"
      },
      "execution_count": null,
      "outputs": [
        {
          "output_type": "execute_result",
          "data": {
            "text/plain": [
              "(tensor(0), tensor(100))"
            ]
          },
          "metadata": {},
          "execution_count": 47
        }
      ]
    },
    {
      "cell_type": "code",
      "source": [
        "x.min(),x.max()"
      ],
      "metadata": {
        "colab": {
          "base_uri": "https://localhost:8080/"
        },
        "id": "OMCIjqhTSNrI",
        "outputId": "98cf8e8a-4614-4582-849a-ac25d44278e6"
      },
      "execution_count": null,
      "outputs": [
        {
          "output_type": "execute_result",
          "data": {
            "text/plain": [
              "(tensor(0), tensor(100))"
            ]
          },
          "metadata": {},
          "execution_count": 48
        }
      ]
    },
    {
      "cell_type": "code",
      "source": [
        "# Mean\n",
        "torch.mean(x.type(torch.float32)), x.type(torch.float32).mean()\n",
        "## cannot run this code without Type conversion"
      ],
      "metadata": {
        "colab": {
          "base_uri": "https://localhost:8080/"
        },
        "id": "bEhN4osASY9F",
        "outputId": "97f4a38d-bf6e-4e35-df40-b1569657af40"
      },
      "execution_count": null,
      "outputs": [
        {
          "output_type": "execute_result",
          "data": {
            "text/plain": [
              "(tensor(50.), tensor(50.))"
            ]
          },
          "metadata": {},
          "execution_count": 49
        }
      ]
    },
    {
      "cell_type": "code",
      "source": [
        "#finding the Sum\n",
        "torch.sum(x) , x.sum()"
      ],
      "metadata": {
        "colab": {
          "base_uri": "https://localhost:8080/"
        },
        "id": "hFMWPRcISiSW",
        "outputId": "34ed2364-8978-4068-9d52-4488b0fd72dc"
      },
      "execution_count": null,
      "outputs": [
        {
          "output_type": "execute_result",
          "data": {
            "text/plain": [
              "(tensor(550), tensor(550))"
            ]
          },
          "metadata": {},
          "execution_count": 50
        }
      ]
    },
    {
      "cell_type": "markdown",
      "source": [
        "## Positional min , max ( the index )"
      ],
      "metadata": {
        "id": "3iGCTDzXTkpk"
      }
    },
    {
      "cell_type": "code",
      "source": [
        "## arg just sends back the index\n",
        "x.argmin() , x.argmax()"
      ],
      "metadata": {
        "colab": {
          "base_uri": "https://localhost:8080/"
        },
        "id": "HSH9ZoOgToXJ",
        "outputId": "ec8fe2c1-54fe-47b5-d829-5b16a29f3f30"
      },
      "execution_count": null,
      "outputs": [
        {
          "output_type": "execute_result",
          "data": {
            "text/plain": [
              "(tensor(0), tensor(10))"
            ]
          },
          "metadata": {},
          "execution_count": 51
        }
      ]
    },
    {
      "cell_type": "code",
      "source": [
        "x[5] ## getting the value"
      ],
      "metadata": {
        "colab": {
          "base_uri": "https://localhost:8080/"
        },
        "id": "778NA8aOTsdk",
        "outputId": "bfc526e1-f69d-4d83-aead-df87c2a99c09"
      },
      "execution_count": null,
      "outputs": [
        {
          "output_type": "execute_result",
          "data": {
            "text/plain": [
              "tensor(50)"
            ]
          },
          "metadata": {},
          "execution_count": 52
        }
      ]
    },
    {
      "cell_type": "markdown",
      "source": [
        "## Reshaping , Stacking , Squeezing , Un-Squeezing"
      ],
      "metadata": {
        "id": "59Gs4RldU-pf"
      }
    },
    {
      "cell_type": "markdown",
      "source": [
        "* Reshape - Reshapes an input tensor to defined shape\n",
        "* View - Return view of input tensor of certain shape but keep same memory as original tensor\n",
        "* Stacking - combine Multiple tensors on top of each other ( specific ways are there including vstack , hstack , (vertical and horizontal ) )\n",
        "* Squeeze - Removes all '1' dimension from a tensor\n",
        "* Unsqueeze - Add a '1' dimension to a tensor\n",
        "* Permute - return a view of input with dimensions permuted (swapped) in a certain way"
      ],
      "metadata": {
        "id": "DJgmEoAHWE5i"
      }
    },
    {
      "cell_type": "code",
      "source": [
        "#Tensor Creation\n",
        "import torch\n",
        "x=torch.arange(1.,11.)\n",
        "x,x.shape"
      ],
      "metadata": {
        "colab": {
          "base_uri": "https://localhost:8080/"
        },
        "id": "UAUkI14iVX_M",
        "outputId": "38812a27-0b4d-40a8-bdae-b7969e09adf9"
      },
      "execution_count": null,
      "outputs": [
        {
          "output_type": "execute_result",
          "data": {
            "text/plain": [
              "(tensor([ 1.,  2.,  3.,  4.,  5.,  6.,  7.,  8.,  9., 10.]), torch.Size([10]))"
            ]
          },
          "metadata": {},
          "execution_count": 58
        }
      ]
    },
    {
      "cell_type": "code",
      "source": [
        " #Reshaping\n",
        " x_reshaped=x.reshape(2,5)\n",
        " x_reshaped  ## should match the inital size"
      ],
      "metadata": {
        "colab": {
          "base_uri": "https://localhost:8080/"
        },
        "id": "5Tzexq-YW9WQ",
        "outputId": "f0750773-3b30-49dd-fc6f-2d13432b174c"
      },
      "execution_count": null,
      "outputs": [
        {
          "output_type": "execute_result",
          "data": {
            "text/plain": [
              "tensor([[ 1.,  2.,  3.,  4.,  5.],\n",
              "        [ 6.,  7.,  8.,  9., 10.]])"
            ]
          },
          "metadata": {},
          "execution_count": 59
        }
      ]
    },
    {
      "cell_type": "code",
      "source": [
        "# View\n",
        "z = x.view(2,5)\n",
        "z,z.shape   # view is just viewing it in diff perspective , no changes wll happen to the element"
      ],
      "metadata": {
        "colab": {
          "base_uri": "https://localhost:8080/"
        },
        "id": "zfDZzyePAW34",
        "outputId": "60c3068a-74a4-4610-9f82-f1d7e7ca9904"
      },
      "execution_count": null,
      "outputs": [
        {
          "output_type": "execute_result",
          "data": {
            "text/plain": [
              "(tensor([[ 1.,  2.,  3.,  4.,  5.],\n",
              "         [ 6.,  7.,  8.,  9., 10.]]),\n",
              " torch.Size([2, 5]))"
            ]
          },
          "metadata": {},
          "execution_count": 60
        }
      ]
    },
    {
      "cell_type": "code",
      "source": [
        "# Stacking\n",
        "x_stacked=torch.stack([x,x,x],dim=1)  ## if Dim = 0 , vertically it stacks\n",
        "x_stacked      ## if dim = 1 , it stacks into group of 3 with each first element in one tensor"
      ],
      "metadata": {
        "colab": {
          "base_uri": "https://localhost:8080/"
        },
        "id": "exW4Weu4A7Zt",
        "outputId": "30e9cc69-2f39-4b76-ce7b-97a954b8b421"
      },
      "execution_count": null,
      "outputs": [
        {
          "output_type": "execute_result",
          "data": {
            "text/plain": [
              "tensor([[ 1.,  1.,  1.],\n",
              "        [ 2.,  2.,  2.],\n",
              "        [ 3.,  3.,  3.],\n",
              "        [ 4.,  4.,  4.],\n",
              "        [ 5.,  5.,  5.],\n",
              "        [ 6.,  6.,  6.],\n",
              "        [ 7.,  7.,  7.],\n",
              "        [ 8.,  8.,  8.],\n",
              "        [ 9.,  9.,  9.],\n",
              "        [10., 10., 10.]])"
            ]
          },
          "metadata": {},
          "execution_count": 67
        }
      ]
    },
    {
      "cell_type": "code",
      "source": [
        "## squeeze\n",
        "sq=x_reshaped.squeeze()\n",
        "## removes extra dimensions\n"
      ],
      "metadata": {
        "id": "_6hshaFiBP32"
      },
      "execution_count": null,
      "outputs": []
    },
    {
      "cell_type": "code",
      "source": [
        "sq.shape"
      ],
      "metadata": {
        "colab": {
          "base_uri": "https://localhost:8080/"
        },
        "id": "IRuPP-OwDX5i",
        "outputId": "33036079-6a51-45d2-f14f-24563332d013"
      },
      "execution_count": null,
      "outputs": [
        {
          "output_type": "execute_result",
          "data": {
            "text/plain": [
              "torch.Size([2, 5])"
            ]
          },
          "metadata": {},
          "execution_count": 80
        }
      ]
    },
    {
      "cell_type": "code",
      "source": [
        "## Unsqueeze\n",
        "usq=x_reshaped.unsqueeze(dim=0)\n",
        " ## need to specify the dimension vertical or horizontal"
      ],
      "metadata": {
        "id": "U_HVG1HmCPTV"
      },
      "execution_count": null,
      "outputs": []
    },
    {
      "cell_type": "code",
      "source": [
        "usq.shape"
      ],
      "metadata": {
        "colab": {
          "base_uri": "https://localhost:8080/"
        },
        "id": "u3DovX2nCz6Z",
        "outputId": "dec37193-68f1-401c-b38f-d28654de1cd7"
      },
      "execution_count": null,
      "outputs": [
        {
          "output_type": "execute_result",
          "data": {
            "text/plain": [
              "torch.Size([1, 2, 5])"
            ]
          },
          "metadata": {},
          "execution_count": 83
        }
      ]
    },
    {
      "cell_type": "code",
      "source": [
        "# permute - rearranges dimensions of tensor in a order\n",
        "x_original = torch.rand(size=(223,224,3)) ## axis is in order 0 , 1 , 2\n",
        "x_permuted = x_original.permute(2,1,0)\n",
        "## new axis are swapped like 0->1 , 1->2 , 2->0\n",
        "x_original.shape ,x_permuted.shape\n"
      ],
      "metadata": {
        "colab": {
          "base_uri": "https://localhost:8080/"
        },
        "id": "xz5ZIQXFDfJK",
        "outputId": "d7d89a37-3789-476b-e012-5b079f1e59fe"
      },
      "execution_count": null,
      "outputs": [
        {
          "output_type": "execute_result",
          "data": {
            "text/plain": [
              "(torch.Size([223, 224, 3]), torch.Size([3, 224, 223]))"
            ]
          },
          "metadata": {},
          "execution_count": 92
        }
      ]
    },
    {
      "cell_type": "markdown",
      "source": [
        "## Indexing ( Data Pulling )"
      ],
      "metadata": {
        "id": "YOV963HDEsbr"
      }
    },
    {
      "cell_type": "code",
      "source": [
        "# Indexing is similar to Numpy Indexing\n",
        "import torch\n",
        "x=torch.arange(1,10,1).reshape(1,3,3)\n",
        "x,x.shape"
      ],
      "metadata": {
        "colab": {
          "base_uri": "https://localhost:8080/"
        },
        "id": "NCmlDFimEvyg",
        "outputId": "afb832c0-3e5c-47f9-df47-6f13c2623671"
      },
      "execution_count": null,
      "outputs": [
        {
          "output_type": "execute_result",
          "data": {
            "text/plain": [
              "(tensor([[[1, 2, 3],\n",
              "          [4, 5, 6],\n",
              "          [7, 8, 9]]]),\n",
              " torch.Size([1, 3, 3]))"
            ]
          },
          "metadata": {},
          "execution_count": 94
        }
      ]
    },
    {
      "cell_type": "code",
      "source": [
        "print(x[0])\n",
        "print(x[0,0])\n",
        "print(x[0][0][0])"
      ],
      "metadata": {
        "colab": {
          "base_uri": "https://localhost:8080/"
        },
        "id": "cQT3Xr25FFxd",
        "outputId": "7b252edf-15c5-44c7-ba99-24195567c8bf"
      },
      "execution_count": null,
      "outputs": [
        {
          "output_type": "stream",
          "name": "stdout",
          "text": [
            "tensor([[1, 2, 3],\n",
            "        [4, 5, 6],\n",
            "        [7, 8, 9]])\n",
            "tensor([1, 2, 3])\n",
            "tensor(1)\n"
          ]
        }
      ]
    },
    {
      "cell_type": "code",
      "source": [
        "print(x[:,1,1])\n",
        "print(x[:,:,1])\n",
        "print(x[0,:,:])"
      ],
      "metadata": {
        "colab": {
          "base_uri": "https://localhost:8080/"
        },
        "id": "wzqrXMyMFMl_",
        "outputId": "a891c169-7cb1-41b9-8757-1fdc6bf6641e"
      },
      "execution_count": null,
      "outputs": [
        {
          "output_type": "stream",
          "name": "stdout",
          "text": [
            "tensor([5])\n",
            "tensor([[2, 5, 8]])\n",
            "tensor([[1, 2, 3],\n",
            "        [4, 5, 6],\n",
            "        [7, 8, 9]])\n"
          ]
        }
      ]
    },
    {
      "cell_type": "markdown",
      "source": [
        "## Array"
      ],
      "metadata": {
        "id": "PiS5SacGGMmw"
      }
    },
    {
      "cell_type": "code",
      "source": [
        "import torch\n",
        "import numpy as np\n",
        "\n",
        "array =np.arange(1.0,10.0)\n",
        "tensor=torch.torch.from_numpy(array)\n",
        "## when converting from numpy to pytorch , it takes float 64 unless changes or converted\n",
        "array,tensor\n"
      ],
      "metadata": {
        "colab": {
          "base_uri": "https://localhost:8080/"
        },
        "id": "ZaOwNtQjGJ0a",
        "outputId": "0083362f-4272-40a5-ec0e-db6aadf550b0"
      },
      "execution_count": null,
      "outputs": [
        {
          "output_type": "execute_result",
          "data": {
            "text/plain": [
              "(array([1., 2., 3., 4., 5., 6., 7., 8., 9.]),\n",
              " tensor([1., 2., 3., 4., 5., 6., 7., 8., 9.], dtype=torch.float64))"
            ]
          },
          "metadata": {},
          "execution_count": 142
        }
      ]
    },
    {
      "cell_type": "code",
      "source": [
        "array.dtype"
      ],
      "metadata": {
        "colab": {
          "base_uri": "https://localhost:8080/"
        },
        "id": "T7tWheM1GiAI",
        "outputId": "a85c8240-9f67-4803-cb96-c071fec21799"
      },
      "execution_count": null,
      "outputs": [
        {
          "output_type": "execute_result",
          "data": {
            "text/plain": [
              "dtype('float64')"
            ]
          },
          "metadata": {},
          "execution_count": 131
        }
      ]
    },
    {
      "cell_type": "code",
      "source": [
        "tensor.dtype"
      ],
      "metadata": {
        "colab": {
          "base_uri": "https://localhost:8080/"
        },
        "id": "LLsBSHwWHEFq",
        "outputId": "7539a079-cc2c-44ef-e229-28b50f4f5dfa"
      },
      "execution_count": null,
      "outputs": [
        {
          "output_type": "execute_result",
          "data": {
            "text/plain": [
              "torch.float64"
            ]
          },
          "metadata": {},
          "execution_count": 143
        }
      ]
    },
    {
      "cell_type": "code",
      "source": [
        "#Changing array value\n",
        "array = array + 1\n",
        "array , tensor\n",
        "# tensor doesnt change as it gets array values and doesnt depend on array anymore"
      ],
      "metadata": {
        "colab": {
          "base_uri": "https://localhost:8080/"
        },
        "id": "L6zIB5QQHM5c",
        "outputId": "8655fc09-e5bc-4ed5-c78a-6f18c05e9634"
      },
      "execution_count": null,
      "outputs": [
        {
          "output_type": "execute_result",
          "data": {
            "text/plain": [
              "(array([ 3.,  4.,  5.,  6.,  7.,  8.,  9., 10., 11.]),\n",
              " tensor([1., 2., 3., 4., 5., 6., 7., 8., 9.], dtype=torch.float64))"
            ]
          },
          "metadata": {},
          "execution_count": 145
        }
      ]
    },
    {
      "cell_type": "code",
      "source": [
        "#tensor to numpy array changing\n",
        "tensor=torch.ones(7)\n",
        "numpy_tensor=tensor.numpy()\n",
        "tensor , numpy_tensor"
      ],
      "metadata": {
        "colab": {
          "base_uri": "https://localhost:8080/"
        },
        "id": "itHo9AShJEIe",
        "outputId": "4e158003-8940-4c1a-b4bc-68544e24ecda"
      },
      "execution_count": null,
      "outputs": [
        {
          "output_type": "execute_result",
          "data": {
            "text/plain": [
              "(tensor([1., 1., 1., 1., 1., 1., 1.]),\n",
              " array([1., 1., 1., 1., 1., 1., 1.], dtype=float32))"
            ]
          },
          "metadata": {},
          "execution_count": 146
        }
      ]
    },
    {
      "cell_type": "code",
      "source": [
        "#changing tensor\n",
        "tensor = tensor+1\n",
        "tensor , numpy_tensor # doesnt change array and datatype"
      ],
      "metadata": {
        "colab": {
          "base_uri": "https://localhost:8080/"
        },
        "id": "_Pn-3-TVJWbl",
        "outputId": "a15fd777-8854-485a-9d9e-0a475755138d"
      },
      "execution_count": null,
      "outputs": [
        {
          "output_type": "execute_result",
          "data": {
            "text/plain": [
              "(tensor([2., 2., 2., 2., 2., 2., 2.]),\n",
              " array([1., 1., 1., 1., 1., 1., 1.], dtype=float32))"
            ]
          },
          "metadata": {},
          "execution_count": 147
        }
      ]
    },
    {
      "cell_type": "code",
      "source": [],
      "metadata": {
        "id": "lZHeJ1WjJ4dn"
      },
      "execution_count": null,
      "outputs": []
    },
    {
      "cell_type": "markdown",
      "source": [
        "# Reproducablity"
      ],
      "metadata": {
        "id": "dSdRswbbKJx6"
      }
    },
    {
      "cell_type": "markdown",
      "source": [
        "Learning Process of a Neural Network\n",
        "Start with random number -> tensor operation -> update random numbers into better representation-> again ,again , again...\n",
        "\n",
        "To reduce Randomness in neural networks and pytorch , comes the concept of a **random seed**\n",
        "It flavours the randomness\n"
      ],
      "metadata": {
        "id": "jg8RLJZ4KOOv"
      }
    },
    {
      "cell_type": "code",
      "source": [
        "import torch\n",
        "# Creating rand tensors\n",
        "x=torch.rand(3,3)\n",
        "y=torch.rand(3,3)\n",
        "print(x)\n",
        "print(y)\n",
        "print(x == y)"
      ],
      "metadata": {
        "colab": {
          "base_uri": "https://localhost:8080/"
        },
        "id": "tSHEU5eWK8Xo",
        "outputId": "06b76c74-101e-4098-9509-09f351355b64"
      },
      "execution_count": null,
      "outputs": [
        {
          "output_type": "stream",
          "name": "stdout",
          "text": [
            "tensor([[0.5030, 0.9810, 0.5805],\n",
            "        [0.2296, 0.2839, 0.6700],\n",
            "        [0.4229, 0.2355, 0.6728]])\n",
            "tensor([[0.9264, 0.3814, 0.4671],\n",
            "        [0.4023, 0.4214, 0.5353],\n",
            "        [0.7502, 0.5538, 0.1715]])\n",
            "tensor([[False, False, False],\n",
            "        [False, False, False],\n",
            "        [False, False, False]])\n"
          ]
        }
      ]
    },
    {
      "cell_type": "code",
      "source": [
        "# Creating Random but reproducable tensors\n",
        "import torch\n",
        "\n",
        "# Set random seed ( just like minecraft seed)\n",
        "Random_seed=1\n",
        "torch.manual_seed(Random_seed)\n",
        "a=torch.rand(3,5)\n",
        "# just like minecraft , seed number = same map for 2 players\n",
        "# call it everytime we use a torch rand\n",
        "torch.manual_seed(Random_seed)\n",
        "b=torch.rand(3,5)\n",
        "print(a)\n",
        "print(b)\n",
        "print(a==b)"
      ],
      "metadata": {
        "colab": {
          "base_uri": "https://localhost:8080/"
        },
        "id": "tqUizmfKLZHM",
        "outputId": "9727b682-0253-4dc6-a598-f37460f2407f"
      },
      "execution_count": null,
      "outputs": [
        {
          "output_type": "stream",
          "name": "stdout",
          "text": [
            "tensor([[0.7576, 0.2793, 0.4031, 0.7347, 0.0293],\n",
            "        [0.7999, 0.3971, 0.7544, 0.5695, 0.4388],\n",
            "        [0.6387, 0.5247, 0.6826, 0.3051, 0.4635]])\n",
            "tensor([[0.7576, 0.2793, 0.4031, 0.7347, 0.0293],\n",
            "        [0.7999, 0.3971, 0.7544, 0.5695, 0.4388],\n",
            "        [0.6387, 0.5247, 0.6826, 0.3051, 0.4635]])\n",
            "tensor([[True, True, True, True, True],\n",
            "        [True, True, True, True, True],\n",
            "        [True, True, True, True, True]])\n"
          ]
        }
      ]
    },
    {
      "cell_type": "code",
      "source": [],
      "metadata": {
        "id": "LvWTs-lJMGNC"
      },
      "execution_count": null,
      "outputs": []
    },
    {
      "cell_type": "markdown",
      "source": [
        "# GPU Running"
      ],
      "metadata": {
        "id": "CCJvk9yJNXMh"
      }
    },
    {
      "cell_type": "code",
      "source": [
        "import torch\n",
        "torch.cuda.is_available()"
      ],
      "metadata": {
        "colab": {
          "base_uri": "https://localhost:8080/"
        },
        "id": "Ki1am-GRNbci",
        "outputId": "6c050012-b9b6-4708-f56f-3b55d57ac425"
      },
      "execution_count": null,
      "outputs": [
        {
          "output_type": "execute_result",
          "data": {
            "text/plain": [
              "True"
            ]
          },
          "metadata": {},
          "execution_count": 1
        }
      ]
    },
    {
      "cell_type": "code",
      "source": [
        "device =\"cuda\" if torch.cuda.is_available() else \"cpu\"\n",
        "device"
      ],
      "metadata": {
        "colab": {
          "base_uri": "https://localhost:8080/",
          "height": 36
        },
        "id": "K3GTR0QcODrR",
        "outputId": "33c8b998-8a07-43fc-f666-7e87b20da2aa"
      },
      "execution_count": null,
      "outputs": [
        {
          "output_type": "execute_result",
          "data": {
            "text/plain": [
              "'cuda'"
            ],
            "application/vnd.google.colaboratory.intrinsic+json": {
              "type": "string"
            }
          },
          "metadata": {},
          "execution_count": 2
        }
      ]
    },
    {
      "cell_type": "code",
      "source": [
        "torch.cuda.device_count()"
      ],
      "metadata": {
        "colab": {
          "base_uri": "https://localhost:8080/"
        },
        "id": "-pLpzFzJOSuG",
        "outputId": "8e7c8bae-b81f-4cce-c76d-8021d428cf99"
      },
      "execution_count": null,
      "outputs": [
        {
          "output_type": "execute_result",
          "data": {
            "text/plain": [
              "1"
            ]
          },
          "metadata": {},
          "execution_count": 4
        }
      ]
    },
    {
      "cell_type": "code",
      "source": [
        "tensor=torch.rand(2,3)\n",
        "tensor # tensr is on cpu from seen in output\n",
        "print(tensor,tensor.device)"
      ],
      "metadata": {
        "colab": {
          "base_uri": "https://localhost:8080/"
        },
        "id": "yWPD-8oqOW2_",
        "outputId": "b2981d66-7153-4bcb-9acf-0c58d4f744ed"
      },
      "execution_count": null,
      "outputs": [
        {
          "output_type": "stream",
          "name": "stdout",
          "text": [
            "tensor([[0.5016, 0.9033, 0.6065],\n",
            "        [0.2184, 0.7985, 0.2253]]) cpu\n"
          ]
        }
      ]
    },
    {
      "cell_type": "code",
      "source": [
        "#moving tensors to gpu from cpu\n",
        "tensor_gpu=tensor.to(device)\n",
        "tensor_gpu"
      ],
      "metadata": {
        "colab": {
          "base_uri": "https://localhost:8080/"
        },
        "id": "2BEPq2CGOijT",
        "outputId": "dc2394cc-6b25-4b9f-b710-1f645100c26f"
      },
      "execution_count": null,
      "outputs": [
        {
          "output_type": "execute_result",
          "data": {
            "text/plain": [
              "tensor([[0.5016, 0.9033, 0.6065],\n",
              "        [0.2184, 0.7985, 0.2253]], device='cuda:0')"
            ]
          },
          "metadata": {},
          "execution_count": 8
        }
      ]
    },
    {
      "cell_type": "code",
      "source": [
        "tensor_back_cpu=tensor_gpu.cpu().numpy()\n",
        "tensor_back_cpu"
      ],
      "metadata": {
        "colab": {
          "base_uri": "https://localhost:8080/"
        },
        "id": "KBMkN5dBOsN8",
        "outputId": "9acf8ed3-75f3-4e40-c1d5-8549f0f2b5a0"
      },
      "execution_count": null,
      "outputs": [
        {
          "output_type": "execute_result",
          "data": {
            "text/plain": [
              "array([[0.50159043, 0.90326977, 0.6064714 ],\n",
              "       [0.21837002, 0.7984841 , 0.22526914]], dtype=float32)"
            ]
          },
          "metadata": {},
          "execution_count": 12
        }
      ]
    },
    {
      "cell_type": "code",
      "source": [],
      "metadata": {
        "id": "pRD7J9hLO-C1"
      },
      "execution_count": null,
      "outputs": []
    },
    {
      "cell_type": "markdown",
      "source": [
        "# Exercises and Extra - Curriculum"
      ],
      "metadata": {
        "id": "8yWajWuePcgB"
      }
    },
    {
      "cell_type": "markdown",
      "source": [
        "https://www.learnpytorch.io/00_pytorch_fundamentals/"
      ],
      "metadata": {
        "id": "0Bi-u5liPlfb"
      }
    },
    {
      "cell_type": "code",
      "source": [],
      "metadata": {
        "id": "5-qk83ZRPk82"
      },
      "execution_count": null,
      "outputs": []
    }
  ]
}
{
  "nbformat": 4,
  "nbformat_minor": 0,
  "metadata": {
    "colab": {
      "provenance": [],
      "collapsed_sections": [
        "ufDJeyZlTaYy",
        "jROamFzIVe6G",
        "qsaOWcZ-8RKi",
        "sfa-om6LyKwE",
        "9Y54CXKQbxjW",
        "aCp33ZhTFwYE"
      ],
      "gpuType": "T4"
    },
    "kernelspec": {
      "name": "python3",
      "display_name": "Python 3"
    },
    "language_info": {
      "name": "python"
    },
    "accelerator": "GPU"
  },
  "cells": [
    {
      "cell_type": "markdown",
      "source": [
        "# Pytorch Workflow Libraries"
      ],
      "metadata": {
        "id": "ufDJeyZlTaYy"
      }
    },
    {
      "cell_type": "markdown",
      "source": [
        "https://www.learnpytorch.io/01_pytorch_workflow/"
      ],
      "metadata": {
        "id": "ahjninK1P3lN"
      }
    },
    {
      "cell_type": "code",
      "source": [
        "Things_we_doing_here={ 1:\" Data (prepare and load)\",\n",
        "                       2:\" Build model\",\n",
        "                       3:\" Fitting the model to data (Training)\",\n",
        "                       4:\" Making orediction and evaluating a model\",\n",
        "                       5:\" Saving and loading a model\",\n",
        "                       6:\" Putting it all Together\" }\n",
        "Things_we_doing_here"
      ],
      "metadata": {
        "colab": {
          "base_uri": "https://localhost:8080/"
        },
        "id": "2HW2JOIaTx_y",
        "outputId": "6fbd3a69-d1c7-4f77-be11-3aab9aac20c7"
      },
      "execution_count": null,
      "outputs": [
        {
          "output_type": "execute_result",
          "data": {
            "text/plain": [
              "{1: ' Data (prepare and load)',\n",
              " 2: ' Build model',\n",
              " 3: ' Fitting the model to data (Training)',\n",
              " 4: ' Making orediction and evaluating a model',\n",
              " 5: ' Saving and loading a model',\n",
              " 6: ' Putting it all Together'}"
            ]
          },
          "metadata": {},
          "execution_count": 4
        }
      ]
    },
    {
      "cell_type": "code",
      "source": [
        "import torch\n",
        "from torch import nn ## nn is neural networks libraries from torch\n",
        "import matplotlib.pyplot as plt\n",
        "\n",
        "torch.__version__"
      ],
      "metadata": {
        "colab": {
          "base_uri": "https://localhost:8080/"
        },
        "id": "SJdRWngDUiuD",
        "outputId": "2900ba65-769e-4d54-e620-bd8ab88f6623"
      },
      "execution_count": null,
      "outputs": [
        {
          "output_type": "execute_result",
          "data": {
            "text/plain": [
              "'2.0.1+cu118'"
            ],
            "application/vnd.google.colaboratory.intrinsic+json": {
              "type": "string"
            }
          },
          "metadata": {},
          "execution_count": 5
        }
      ]
    },
    {
      "cell_type": "markdown",
      "source": [
        "# Data (Preparing and Loading)"
      ],
      "metadata": {
        "id": "jROamFzIVe6G"
      }
    },
    {
      "cell_type": "markdown",
      "source": [
        "Data can be anything in the Universe\n",
        "Machine Learning is Game of 2 parts\n",
        "1. Get data into Numerical Representation.\n",
        "2. Build a model to learn patterns in that Numerical Representation"
      ],
      "metadata": {
        "id": "koLHbQqFVj2i"
      }
    },
    {
      "cell_type": "markdown",
      "source": [
        "LINEAR REGRESSION FORMULA  \n",
        "1. Y= a + bX  \n",
        "- X - explanatory Variable\n",
        "- Y-dependant Variable\n",
        "- B-slope of the line\n",
        "- A is the y intercept"
      ],
      "metadata": {
        "id": "EYi77JpUWEb2"
      }
    },
    {
      "cell_type": "code",
      "source": [
        "# Create known Parameters\n",
        "weight = 0.7\n",
        "bias = 0.3\n",
        "\n",
        "# Create\n",
        "start = 0\n",
        "end = 1\n",
        "step = 0.02\n",
        "X = torch.arange(start,end,step) ## use unsqueeze to make it vertical\n",
        "y = weight*X + bias\n",
        "\n",
        "X[:10] , y[:10]"
      ],
      "metadata": {
        "colab": {
          "base_uri": "https://localhost:8080/"
        },
        "id": "AbqIugteWwgq",
        "outputId": "927ee555-465e-4155-9788-ab229561e230"
      },
      "execution_count": null,
      "outputs": [
        {
          "output_type": "execute_result",
          "data": {
            "text/plain": [
              "(tensor([0.0000, 0.0200, 0.0400, 0.0600, 0.0800, 0.1000, 0.1200, 0.1400, 0.1600,\n",
              "         0.1800]),\n",
              " tensor([0.3000, 0.3140, 0.3280, 0.3420, 0.3560, 0.3700, 0.3840, 0.3980, 0.4120,\n",
              "         0.4260]))"
            ]
          },
          "metadata": {},
          "execution_count": 6
        }
      ]
    },
    {
      "cell_type": "code",
      "source": [
        "len(X),len(y)"
      ],
      "metadata": {
        "colab": {
          "base_uri": "https://localhost:8080/"
        },
        "id": "7w0pAcXoXYXH",
        "outputId": "0ffd0ed5-e7df-4a33-9208-da7ccce8a687"
      },
      "execution_count": null,
      "outputs": [
        {
          "output_type": "execute_result",
          "data": {
            "text/plain": [
              "(50, 50)"
            ]
          },
          "metadata": {},
          "execution_count": 7
        }
      ]
    },
    {
      "cell_type": "markdown",
      "source": [
        "## Splitting data into training and test set"
      ],
      "metadata": {
        "id": "iG3yU7t6sGuO"
      }
    },
    {
      "cell_type": "code",
      "source": [
        "# Creating Training and Test Set\n",
        "## training - 80 percent split , test - 20 percent split\n",
        "train_split= int(0.8 * len(X))\n",
        "x_train,y_train=X[:train_split],y[:train_split]\n",
        "## :index means upto that index values and index: means all aftr that index\n",
        "x_test,y_test=X[train_split:],y[train_split:]\n",
        "len(x_train) , len(x_test) , len(y_train) , len(y_test)"
      ],
      "metadata": {
        "colab": {
          "base_uri": "https://localhost:8080/"
        },
        "id": "wqIUste8sMKl",
        "outputId": "e57f3124-629a-4c34-eedf-db09017693d6"
      },
      "execution_count": null,
      "outputs": [
        {
          "output_type": "execute_result",
          "data": {
            "text/plain": [
              "(40, 10, 40, 10)"
            ]
          },
          "metadata": {},
          "execution_count": 8
        }
      ]
    },
    {
      "cell_type": "code",
      "source": [
        "x_train , x_test , y_train , y_test"
      ],
      "metadata": {
        "colab": {
          "base_uri": "https://localhost:8080/"
        },
        "id": "D_yLzwfMFUbZ",
        "outputId": "876710b4-7ee8-428b-bd0c-0d7a12170c59"
      },
      "execution_count": null,
      "outputs": [
        {
          "output_type": "execute_result",
          "data": {
            "text/plain": [
              "(tensor([0.0000, 0.0200, 0.0400, 0.0600, 0.0800, 0.1000, 0.1200, 0.1400, 0.1600,\n",
              "         0.1800, 0.2000, 0.2200, 0.2400, 0.2600, 0.2800, 0.3000, 0.3200, 0.3400,\n",
              "         0.3600, 0.3800, 0.4000, 0.4200, 0.4400, 0.4600, 0.4800, 0.5000, 0.5200,\n",
              "         0.5400, 0.5600, 0.5800, 0.6000, 0.6200, 0.6400, 0.6600, 0.6800, 0.7000,\n",
              "         0.7200, 0.7400, 0.7600, 0.7800]),\n",
              " tensor([0.8000, 0.8200, 0.8400, 0.8600, 0.8800, 0.9000, 0.9200, 0.9400, 0.9600,\n",
              "         0.9800]),\n",
              " tensor([0.3000, 0.3140, 0.3280, 0.3420, 0.3560, 0.3700, 0.3840, 0.3980, 0.4120,\n",
              "         0.4260, 0.4400, 0.4540, 0.4680, 0.4820, 0.4960, 0.5100, 0.5240, 0.5380,\n",
              "         0.5520, 0.5660, 0.5800, 0.5940, 0.6080, 0.6220, 0.6360, 0.6500, 0.6640,\n",
              "         0.6780, 0.6920, 0.7060, 0.7200, 0.7340, 0.7480, 0.7620, 0.7760, 0.7900,\n",
              "         0.8040, 0.8180, 0.8320, 0.8460]),\n",
              " tensor([0.8600, 0.8740, 0.8880, 0.9020, 0.9160, 0.9300, 0.9440, 0.9580, 0.9720,\n",
              "         0.9860]))"
            ]
          },
          "metadata": {},
          "execution_count": 9
        }
      ]
    },
    {
      "cell_type": "code",
      "source": [
        "# Visualizing our Data using Matplotlib\n",
        "\n",
        "def plot_predictions(train_data=x_train,\n",
        "                     train_label=y_train,\n",
        "                     test_data=x_test,\n",
        "                     test_label=y_test,\n",
        "                     predictions=None):\n",
        " ## Plots training data and test ddata and compared prediction\n",
        "  plt.figure(figsize=(10,7))\n",
        "\n",
        "  #blue plot training data\n",
        "  plt.scatter(train_data,train_label,c=\"b\",s=4,label=\"Training Data\")\n",
        "  #Green plot test data\n",
        "  plt.scatter(test_data,test_label,c=\"g\",s=4,label=\"Test Data\")\n",
        "\n",
        "  #Predictions\n",
        "  if predictions is not None:\n",
        "    plt.scatter(test_data,predictions,c=\"r\",s=4,label=\"Predictions\")\n",
        "\n",
        "  #Legend\n",
        "  plt.legend(prop={\"size\": 14});"
      ],
      "metadata": {
        "id": "tp0K-ocKtqbM"
      },
      "execution_count": null,
      "outputs": []
    },
    {
      "cell_type": "code",
      "source": [
        "plot_predictions();"
      ],
      "metadata": {
        "colab": {
          "base_uri": "https://localhost:8080/"
        },
        "id": "PjbGdo18wnuU",
        "outputId": "7157d73d-a44d-4084-b0d9-a978acb0d9cb"
      },
      "execution_count": null,
      "outputs": [
        {
          "output_type": "display_data",
          "data": {
            "text/plain": [
              "<Figure size 1000x700 with 1 Axes>"
            ],
            "image/png": "[encoded data removed]"
          },
          "metadata": {}
        }
      ]
    },
    {
      "cell_type": "markdown",
      "source": [
        "## Pytorch Model Building essentials\n",
        "\n"
      ],
      "metadata": {
        "id": "qsaOWcZ-8RKi"
      }
    },
    {
      "cell_type": "markdown",
      "source": [
        "* torch.nn - building blocks for computational grap ( neural networks are computational grpahs)\n",
        "* torch.nn.paramaeter which parameter should our model try and learn . often pytch layer sets these for us\n",
        "* torch.nn.Module - The base class for all netwrok modules , if we subclass it , it shld overwrite forward()\n",
        "* torch.optim - this used for optimization and  , will help in gradient descent\n",
        "* def forward() - all nn.module subclassse require you to overwrite forward() , defines what hepppends in forward computation\n",
        "\n",
        "https://pytorch.org/tutorials/beginner/ptcheat.html"
      ],
      "metadata": {
        "id": "afKjfdJj-eMk"
      }
    },
    {
      "cell_type": "code",
      "source": [],
      "metadata": {
        "id": "G_uffMkx-QU5"
      },
      "execution_count": null,
      "outputs": []
    },
    {
      "cell_type": "markdown",
      "source": [
        "# Building a Model in Pytorch"
      ],
      "metadata": {
        "id": "sfa-om6LyKwE"
      }
    },
    {
      "cell_type": "markdown",
      "source": [
        "THE ABOVE CODE OR CELL ( SPLITTIG ) AND THIS ARE INTER CONNECTED\n",
        "What this model does ?\n",
        "* Start with random values ( weight and bias )\n",
        "* look at training data and adjust the random values to better represent the ideal values of weight and bias we used to create the data\n",
        "\n",
        "How does it do ?\n",
        "* Gradient Descent Algorithm\n",
        "* Back Propagation Algorithm"
      ],
      "metadata": {
        "id": "0hpF_UpC5Ka1"
      }
    },
    {
      "cell_type": "code",
      "source": [
        "from torch import nn\n",
        "# Linear Regression Model\n",
        "class LinearRegressionModel(nn.Module): ## nn.module is the basic of neural networks\n",
        "  def __init__(self):\n",
        "    super().__init__()\n",
        "    self.weights = nn.Parameter(torch.randn(1,requires_grad=True, ## start with random weight and adjust it to ideal weight\n",
        "                                            dtype=torch.float))\n",
        "    self.bias = nn.Parameter(torch.randn(1,requires_grad=True,\n",
        "                                         dtype=torch.float)) ## start with random biasn and ajust it to ideal bias\n",
        "\n",
        "  ## Forward Method to define Computation in the model\n",
        "  def forward(self,x: torch.Tensor) -> torch.Tensor: # input data is x\n",
        "    return self.weights*x + self.bias # linear regression formula"
      ],
      "metadata": {
        "id": "ye1d6J0cyNSs"
      },
      "execution_count": null,
      "outputs": []
    },
    {
      "cell_type": "code",
      "source": [
        "# Looking whats inside our Model\n",
        "## Random seed\n",
        "torch.manual_seed(42)\n",
        "\n",
        "##instance of model , this is a subclass of model\n",
        "model_0 =LinearRegressionModel()\n",
        "\n",
        "list(model_0.parameters())  ## .parameter() is used to get the values inside a model"
      ],
      "metadata": {
        "colab": {
          "base_uri": "https://localhost:8080/"
        },
        "id": "ZTjty0pH-4rz",
        "outputId": "21790955-5c6a-4e8a-8560-c8434664be91"
      },
      "execution_count": null,
      "outputs": [
        {
          "output_type": "execute_result",
          "data": {
            "text/plain": [
              "[Parameter containing:\n",
              " tensor([0.3367], requires_grad=True),\n",
              " Parameter containing:\n",
              " tensor([0.1288], requires_grad=True)]"
            ]
          },
          "metadata": {},
          "execution_count": 13
        }
      ]
    },
    {
      "cell_type": "code",
      "source": [
        "torch.manual_seed(42)\n",
        "torch.randn(1),weight,bias"
      ],
      "metadata": {
        "colab": {
          "base_uri": "https://localhost:8080/"
        },
        "id": "z2FjUYYP_Tqx",
        "outputId": "c6efdcb8-b62b-463a-fbaa-97f2d75390aa"
      },
      "execution_count": null,
      "outputs": [
        {
          "output_type": "execute_result",
          "data": {
            "text/plain": [
              "(tensor([0.3367]), 0.7, 0.3)"
            ]
          },
          "metadata": {},
          "execution_count": 14
        }
      ]
    },
    {
      "cell_type": "code",
      "source": [
        "# List the named parameter\n",
        "model_0.state_dict()  ## Values and tensor names"
      ],
      "metadata": {
        "colab": {
          "base_uri": "https://localhost:8080/"
        },
        "id": "KOAcbb_r_gTL",
        "outputId": "daa4f55c-a23d-4483-f6a6-799624f9098e"
      },
      "execution_count": null,
      "outputs": [
        {
          "output_type": "execute_result",
          "data": {
            "text/plain": [
              "OrderedDict([('weights', tensor([0.3367])), ('bias', tensor([0.1288]))])"
            ]
          },
          "metadata": {},
          "execution_count": 15
        }
      ]
    },
    {
      "cell_type": "code",
      "source": [
        "## Making Predictions using Torch.inference_mode()\n",
        "## lets see how it predicts y test using x test\n",
        "with torch.inference_mode():  # iNFERENCE IS JUST PREDICTIONS but without add backwards grad function\n",
        "  y_preds=model_0(x_test)\n",
        "\n",
        "y_preds ## not implemented shows not implemented error"
      ],
      "metadata": {
        "colab": {
          "base_uri": "https://localhost:8080/"
        },
        "id": "Kd70iZxIAsnK",
        "outputId": "8d5a5647-f74c-4b8f-e81b-2afee144fe18"
      },
      "execution_count": null,
      "outputs": [
        {
          "output_type": "execute_result",
          "data": {
            "text/plain": [
              "tensor([0.3982, 0.4049, 0.4116, 0.4184, 0.4251, 0.4318, 0.4386, 0.4453, 0.4520,\n",
              "        0.4588])"
            ]
          },
          "metadata": {},
          "execution_count": 16
        }
      ]
    },
    {
      "cell_type": "code",
      "source": [
        "plot_predictions(predictions=y_preds)"
      ],
      "metadata": {
        "colab": {
          "base_uri": "https://localhost:8080/"
        },
        "id": "nVASWjIHFvK9",
        "outputId": "503d7407-0372-46b8-f5c7-56769d17010d"
      },
      "execution_count": null,
      "outputs": [
        {
          "output_type": "display_data",
          "data": {
            "text/plain": [
              "<Figure size 1000x700 with 1 Axes>"
            ],
            "image/png": "[encoded data removed]"
          },
          "metadata": {}
        }
      ]
    },
    {
      "cell_type": "markdown",
      "source": [
        "SOO THE ABOVE MODEL ISNTT GOODOD...CAZ RED DOTS AINT MATCHING"
      ],
      "metadata": {
        "id": "3RYYpZGOGJ2d"
      }
    },
    {
      "cell_type": "markdown",
      "source": [
        "# Training and Testing a Model"
      ],
      "metadata": {
        "id": "9Y54CXKQbxjW"
      }
    },
    {
      "cell_type": "markdown",
      "source": [
        "One way to measure how poor or how wrong our models predictions are to use a loss function\n",
        "\n",
        "Things we need to train\n",
        "\n",
        "**loss function** = A function to measure how wrong model values are\n",
        "**Optimizer** = Tkes the loss and adjust the parameters values according to Loss\n",
        "\n",
        "We need\n",
        "1. Training loop\n",
        "2. Testing Loop"
      ],
      "metadata": {
        "id": "LFCXnj4sb-qz"
      }
    },
    {
      "cell_type": "code",
      "source": [
        "list(model_0.parameters()),model_0.state_dict()\n",
        "## TEHRE ARE MANY MODELS OF LOSS AND OPTIMIZERS , CHOOSE ACCORDING TO DATA AND QUESTION"
      ],
      "metadata": {
        "colab": {
          "base_uri": "https://localhost:8080/"
        },
        "id": "VFGxWjAvb1AD",
        "outputId": "9ca410d1-993b-4bdd-9c08-9a2e579b0b19"
      },
      "execution_count": null,
      "outputs": [
        {
          "output_type": "execute_result",
          "data": {
            "text/plain": [
              "([Parameter containing:\n",
              "  tensor([0.3367], requires_grad=True),\n",
              "  Parameter containing:\n",
              "  tensor([0.1288], requires_grad=True)],\n",
              " OrderedDict([('weights', tensor([0.3367])), ('bias', tensor([0.1288]))]))"
            ]
          },
          "metadata": {},
          "execution_count": 18
        }
      ]
    },
    {
      "cell_type": "code",
      "source": [
        "# Setting up a loss function\n",
        "loss_fn=nn.L1Loss()\n",
        "loss_fn"
      ],
      "metadata": {
        "colab": {
          "base_uri": "https://localhost:8080/"
        },
        "id": "D9tgeEEEdisE",
        "outputId": "925cfe15-7dab-4221-93e5-2d2accc8ae37"
      },
      "execution_count": null,
      "outputs": [
        {
          "output_type": "execute_result",
          "data": {
            "text/plain": [
              "L1Loss()"
            ]
          },
          "metadata": {},
          "execution_count": 19
        }
      ]
    },
    {
      "cell_type": "markdown",
      "source": [
        ":Regression Problem requires nn.L1Loss() and torch.optim.SGD"
      ],
      "metadata": {
        "id": "vnf-XRN0hruT"
      }
    },
    {
      "cell_type": "code",
      "source": [
        "# Setting up an Optimizer\n",
        "optimizer = torch.optim.SGD(params=model_0.parameters(),lr=0.01) #lr - learning rate\n",
        "## lr is the most important learning hyperparameter\n",
        "## larget learning rate -> larger chagnge in parameter"
      ],
      "metadata": {
        "id": "_J0OIWQPfLZS"
      },
      "execution_count": null,
      "outputs": []
    },
    {
      "cell_type": "markdown",
      "source": [
        "##Training loop\n",
        "0. Loop through the data\n",
        "1. Forward pass to make predictions ( forward propgation )\n",
        "2. Calculate the loss ( compare predictions to ground truth data)\n",
        "3. Optimizer zero grad\n",
        "4. Loss Backward - move backwards through network to calculate gradients of each parameters of our model\n",
        "5. Optimizer step - Use optimiset to improve loss by taking the loss data"
      ],
      "metadata": {
        "id": "-od1cOKE6jp4"
      }
    },
    {
      "cell_type": "code",
      "source": [
        "x_test , y_test"
      ],
      "metadata": {
        "colab": {
          "base_uri": "https://localhost:8080/"
        },
        "id": "rdZeMs9ZdS_B",
        "outputId": "4fb5bb4f-2301-481d-dd00-21050143eb78"
      },
      "execution_count": null,
      "outputs": [
        {
          "output_type": "execute_result",
          "data": {
            "text/plain": [
              "(tensor([0.8000, 0.8200, 0.8400, 0.8600, 0.8800, 0.9000, 0.9200, 0.9400, 0.9600,\n",
              "         0.9800]),\n",
              " tensor([0.8600, 0.8740, 0.8880, 0.9020, 0.9160, 0.9300, 0.9440, 0.9580, 0.9720,\n",
              "         0.9860]))"
            ]
          },
          "metadata": {},
          "execution_count": 21
        }
      ]
    },
    {
      "cell_type": "code",
      "source": [
        "with torch.inference_mode():\n",
        "  list(model_0.eval().parameters())"
      ],
      "metadata": {
        "id": "jTOqnG0pct-Z"
      },
      "execution_count": null,
      "outputs": []
    },
    {
      "cell_type": "code",
      "source": [
        "torch.manual_seed(42)\n",
        "\n",
        "# an epoch is one loop through all the data\n",
        "epoch = 100\n",
        "epoch_count=[]\n",
        "loss_values=[]\n",
        "test_loss_values=[]\n",
        "\n",
        "# 0. Loop through the data\n",
        "for epoch in range(epoch):\n",
        "  model_0.train()\n",
        "  #1.Forward Pass\n",
        "  y_pred=model_0(x_train)\n",
        "  #2.Loss Calculation\n",
        "  loss = loss_fn(y_pred,y_train)\n",
        "  print(\"Loss:\", {loss} )\n",
        "  #3.optimizer\n",
        "  optimizer.zero_grad()\n",
        "  #4 Perform Back Propagation\n",
        "  loss.backward()\n",
        "  #5 Step the Optimizer\n",
        "  optimizer.step() # how optimizer changes will accumulate throug the loop so we have to zero them above to make it ready for next loop\n",
        "\n",
        "\n",
        "  ## Testing the model using model_0.eval()\n",
        "  model_0.eval() ## turns of diff settings not needed in model\n",
        "\n",
        "  with torch.inference_mode():\n",
        "    test_pred=model_0(x_test)\n",
        "    test_loss=loss_fn(test_pred,y_test)\n",
        "\n",
        "  if epoch % 10 == 0:\n",
        "    epoch_count.append(epoch)\n",
        "    loss_values.append(loss)\n",
        "    test_loss_values.append(test_loss)\n",
        "    print(f\"Epoch: {epoch} Loss: {loss} Test Loss: {test_loss}\")\n",
        "    print(model_0.state_dict())\n",
        "with torch.inference_mode():\n",
        "  y_preds_new=model_0(x_test)"
      ],
      "metadata": {
        "colab": {
          "base_uri": "https://localhost:8080/"
        },
        "id": "hvZ3QsPW7S-g",
        "outputId": "bf8aa986-c504-407f-ad03-8f12f9434df2"
      },
      "execution_count": null,
      "outputs": [
        {
          "output_type": "stream",
          "name": "stdout",
          "text": [
            "Loss: {tensor(0.3129, grad_fn=<MeanBackward0>)}\n",
            "Epoch: 0 Loss: 0.31288138031959534 Test Loss: 0.48106518387794495\n",
            "OrderedDict([('weights', tensor([0.3406])), ('bias', tensor([0.1388]))])\n",
            "Loss: {tensor(0.3014, grad_fn=<MeanBackward0>)}\n",
            "Loss: {tensor(0.2898, grad_fn=<MeanBackward0>)}\n",
            "Loss: {tensor(0.2783, grad_fn=<MeanBackward0>)}\n",
            "Loss: {tensor(0.2668, grad_fn=<MeanBackward0>)}\n",
            "Loss: {tensor(0.2553, grad_fn=<MeanBackward0>)}\n",
            "Loss: {tensor(0.2438, grad_fn=<MeanBackward0>)}\n",
            "Loss: {tensor(0.2322, grad_fn=<MeanBackward0>)}\n",
            "Loss: {tensor(0.2207, grad_fn=<MeanBackward0>)}\n",
            "Loss: {tensor(0.2092, grad_fn=<MeanBackward0>)}\n",
            "Loss: {tensor(0.1977, grad_fn=<MeanBackward0>)}\n",
            "Epoch: 10 Loss: 0.1976713240146637 Test Loss: 0.3463551998138428\n",
            "OrderedDict([('weights', tensor([0.3796])), ('bias', tensor([0.2388]))])\n",
            "Loss: {tensor(0.1862, grad_fn=<MeanBackward0>)}\n",
            "Loss: {tensor(0.1746, grad_fn=<MeanBackward0>)}\n",
            "Loss: {tensor(0.1631, grad_fn=<MeanBackward0>)}\n",
            "Loss: {tensor(0.1516, grad_fn=<MeanBackward0>)}\n",
            "Loss: {tensor(0.1401, grad_fn=<MeanBackward0>)}\n",
            "Loss: {tensor(0.1285, grad_fn=<MeanBackward0>)}\n",
            "Loss: {tensor(0.1170, grad_fn=<MeanBackward0>)}\n",
            "Loss: {tensor(0.1061, grad_fn=<MeanBackward0>)}\n",
            "Loss: {tensor(0.0968, grad_fn=<MeanBackward0>)}\n",
            "Loss: {tensor(0.0891, grad_fn=<MeanBackward0>)}\n",
            "Epoch: 20 Loss: 0.08908725529909134 Test Loss: 0.21729660034179688\n",
            "OrderedDict([('weights', tensor([0.4184])), ('bias', tensor([0.3333]))])\n",
            "Loss: {tensor(0.0823, grad_fn=<MeanBackward0>)}\n",
            "Loss: {tensor(0.0764, grad_fn=<MeanBackward0>)}\n",
            "Loss: {tensor(0.0716, grad_fn=<MeanBackward0>)}\n",
            "Loss: {tensor(0.0675, grad_fn=<MeanBackward0>)}\n",
            "Loss: {tensor(0.0640, grad_fn=<MeanBackward0>)}\n",
            "Loss: {tensor(0.0610, grad_fn=<MeanBackward0>)}\n",
            "Loss: {tensor(0.0585, grad_fn=<MeanBackward0>)}\n",
            "Loss: {tensor(0.0564, grad_fn=<MeanBackward0>)}\n",
            "Loss: {tensor(0.0546, grad_fn=<MeanBackward0>)}\n",
            "Loss: {tensor(0.0531, grad_fn=<MeanBackward0>)}\n",
            "Epoch: 30 Loss: 0.053148526698350906 Test Loss: 0.14464017748832703\n",
            "OrderedDict([('weights', tensor([0.4512])), ('bias', tensor([0.3768]))])\n",
            "Loss: {tensor(0.0518, grad_fn=<MeanBackward0>)}\n",
            "Loss: {tensor(0.0507, grad_fn=<MeanBackward0>)}\n",
            "Loss: {tensor(0.0498, grad_fn=<MeanBackward0>)}\n",
            "Loss: {tensor(0.0490, grad_fn=<MeanBackward0>)}\n",
            "Loss: {tensor(0.0482, grad_fn=<MeanBackward0>)}\n",
            "Loss: {tensor(0.0475, grad_fn=<MeanBackward0>)}\n",
            "Loss: {tensor(0.0469, grad_fn=<MeanBackward0>)}\n",
            "Loss: {tensor(0.0464, grad_fn=<MeanBackward0>)}\n",
            "Loss: {tensor(0.0459, grad_fn=<MeanBackward0>)}\n",
            "Loss: {tensor(0.0454, grad_fn=<MeanBackward0>)}\n",
            "Epoch: 40 Loss: 0.04543796554207802 Test Loss: 0.11360953003168106\n",
            "OrderedDict([('weights', tensor([0.4748])), ('bias', tensor([0.3868]))])\n",
            "Loss: {tensor(0.0450, grad_fn=<MeanBackward0>)}\n",
            "Loss: {tensor(0.0446, grad_fn=<MeanBackward0>)}\n",
            "Loss: {tensor(0.0442, grad_fn=<MeanBackward0>)}\n",
            "Loss: {tensor(0.0438, grad_fn=<MeanBackward0>)}\n",
            "Loss: {tensor(0.0434, grad_fn=<MeanBackward0>)}\n",
            "Loss: {tensor(0.0431, grad_fn=<MeanBackward0>)}\n",
            "Loss: {tensor(0.0427, grad_fn=<MeanBackward0>)}\n",
            "Loss: {tensor(0.0424, grad_fn=<MeanBackward0>)}\n",
            "Loss: {tensor(0.0420, grad_fn=<MeanBackward0>)}\n",
            "Loss: {tensor(0.0417, grad_fn=<MeanBackward0>)}\n",
            "Epoch: 50 Loss: 0.04167863354086876 Test Loss: 0.09919948130846024\n",
            "OrderedDict([('weights', tensor([0.4938])), ('bias', tensor([0.3843]))])\n",
            "Loss: {tensor(0.0413, grad_fn=<MeanBackward0>)}\n",
            "Loss: {tensor(0.0410, grad_fn=<MeanBackward0>)}\n",
            "Loss: {tensor(0.0406, grad_fn=<MeanBackward0>)}\n",
            "Loss: {tensor(0.0403, grad_fn=<MeanBackward0>)}\n",
            "Loss: {tensor(0.0399, grad_fn=<MeanBackward0>)}\n",
            "Loss: {tensor(0.0396, grad_fn=<MeanBackward0>)}\n",
            "Loss: {tensor(0.0392, grad_fn=<MeanBackward0>)}\n",
            "Loss: {tensor(0.0389, grad_fn=<MeanBackward0>)}\n",
            "Loss: {tensor(0.0385, grad_fn=<MeanBackward0>)}\n",
            "Loss: {tensor(0.0382, grad_fn=<MeanBackward0>)}\n",
            "Epoch: 60 Loss: 0.03818932920694351 Test Loss: 0.08886633068323135\n",
            "OrderedDict([('weights', tensor([0.5116])), ('bias', tensor([0.3788]))])\n",
            "Loss: {tensor(0.0379, grad_fn=<MeanBackward0>)}\n",
            "Loss: {tensor(0.0375, grad_fn=<MeanBackward0>)}\n",
            "Loss: {tensor(0.0372, grad_fn=<MeanBackward0>)}\n",
            "Loss: {tensor(0.0368, grad_fn=<MeanBackward0>)}\n",
            "Loss: {tensor(0.0365, grad_fn=<MeanBackward0>)}\n",
            "Loss: {tensor(0.0361, grad_fn=<MeanBackward0>)}\n",
            "Loss: {tensor(0.0358, grad_fn=<MeanBackward0>)}\n",
            "Loss: {tensor(0.0354, grad_fn=<MeanBackward0>)}\n",
            "Loss: {tensor(0.0351, grad_fn=<MeanBackward0>)}\n",
            "Loss: {tensor(0.0348, grad_fn=<MeanBackward0>)}\n",
            "Epoch: 70 Loss: 0.03476089984178543 Test Loss: 0.0805937647819519\n",
            "OrderedDict([('weights', tensor([0.5288])), ('bias', tensor([0.3718]))])\n",
            "Loss: {tensor(0.0344, grad_fn=<MeanBackward0>)}\n",
            "Loss: {tensor(0.0341, grad_fn=<MeanBackward0>)}\n",
            "Loss: {tensor(0.0337, grad_fn=<MeanBackward0>)}\n",
            "Loss: {tensor(0.0334, grad_fn=<MeanBackward0>)}\n",
            "Loss: {tensor(0.0330, grad_fn=<MeanBackward0>)}\n",
            "Loss: {tensor(0.0327, grad_fn=<MeanBackward0>)}\n",
            "Loss: {tensor(0.0324, grad_fn=<MeanBackward0>)}\n",
            "Loss: {tensor(0.0320, grad_fn=<MeanBackward0>)}\n",
            "Loss: {tensor(0.0317, grad_fn=<MeanBackward0>)}\n",
            "Loss: {tensor(0.0313, grad_fn=<MeanBackward0>)}\n",
            "Epoch: 80 Loss: 0.03132382780313492 Test Loss: 0.07232122868299484\n",
            "OrderedDict([('weights', tensor([0.5459])), ('bias', tensor([0.3648]))])\n",
            "Loss: {tensor(0.0310, grad_fn=<MeanBackward0>)}\n",
            "Loss: {tensor(0.0306, grad_fn=<MeanBackward0>)}\n",
            "Loss: {tensor(0.0303, grad_fn=<MeanBackward0>)}\n",
            "Loss: {tensor(0.0300, grad_fn=<MeanBackward0>)}\n",
            "Loss: {tensor(0.0296, grad_fn=<MeanBackward0>)}\n",
            "Loss: {tensor(0.0293, grad_fn=<MeanBackward0>)}\n",
            "Loss: {tensor(0.0289, grad_fn=<MeanBackward0>)}\n",
            "Loss: {tensor(0.0286, grad_fn=<MeanBackward0>)}\n",
            "Loss: {tensor(0.0282, grad_fn=<MeanBackward0>)}\n",
            "Loss: {tensor(0.0279, grad_fn=<MeanBackward0>)}\n",
            "Epoch: 90 Loss: 0.02788739837706089 Test Loss: 0.06473556160926819\n",
            "OrderedDict([('weights', tensor([0.5629])), ('bias', tensor([0.3573]))])\n",
            "Loss: {tensor(0.0275, grad_fn=<MeanBackward0>)}\n",
            "Loss: {tensor(0.0272, grad_fn=<MeanBackward0>)}\n",
            "Loss: {tensor(0.0269, grad_fn=<MeanBackward0>)}\n",
            "Loss: {tensor(0.0265, grad_fn=<MeanBackward0>)}\n",
            "Loss: {tensor(0.0262, grad_fn=<MeanBackward0>)}\n",
            "Loss: {tensor(0.0258, grad_fn=<MeanBackward0>)}\n",
            "Loss: {tensor(0.0255, grad_fn=<MeanBackward0>)}\n",
            "Loss: {tensor(0.0251, grad_fn=<MeanBackward0>)}\n",
            "Loss: {tensor(0.0248, grad_fn=<MeanBackward0>)}\n"
          ]
        }
      ]
    },
    {
      "cell_type": "code",
      "source": [
        "epoch_count,loss_values,test_loss_values"
      ],
      "metadata": {
        "colab": {
          "base_uri": "https://localhost:8080/"
        },
        "id": "l7MTZszLB98J",
        "outputId": "15b36aad-7ca5-4fb5-9f03-9902857f4ae9"
      },
      "execution_count": null,
      "outputs": [
        {
          "output_type": "execute_result",
          "data": {
            "text/plain": [
              "([0, 10, 20, 30, 40, 50, 60, 70, 80, 90],\n",
              " [tensor(0.3129, grad_fn=<MeanBackward0>),\n",
              "  tensor(0.1977, grad_fn=<MeanBackward0>),\n",
              "  tensor(0.0891, grad_fn=<MeanBackward0>),\n",
              "  tensor(0.0531, grad_fn=<MeanBackward0>),\n",
              "  tensor(0.0454, grad_fn=<MeanBackward0>),\n",
              "  tensor(0.0417, grad_fn=<MeanBackward0>),\n",
              "  tensor(0.0382, grad_fn=<MeanBackward0>),\n",
              "  tensor(0.0348, grad_fn=<MeanBackward0>),\n",
              "  tensor(0.0313, grad_fn=<MeanBackward0>),\n",
              "  tensor(0.0279, grad_fn=<MeanBackward0>)],\n",
              " [tensor(0.4811),\n",
              "  tensor(0.3464),\n",
              "  tensor(0.2173),\n",
              "  tensor(0.1446),\n",
              "  tensor(0.1136),\n",
              "  tensor(0.0992),\n",
              "  tensor(0.0889),\n",
              "  tensor(0.0806),\n",
              "  tensor(0.0723),\n",
              "  tensor(0.0647)])"
            ]
          },
          "metadata": {},
          "execution_count": 24
        }
      ]
    },
    {
      "cell_type": "code",
      "source": [
        "import numpy as np\n",
        "np.array(torch.tensor(loss_values).numpy()),test_loss_values"
      ],
      "metadata": {
        "colab": {
          "base_uri": "https://localhost:8080/"
        },
        "id": "kGelvw7DETFv",
        "outputId": "2b6ab92d-4874-49a3-b2fa-8a6f34eada5f"
      },
      "execution_count": null,
      "outputs": [
        {
          "output_type": "execute_result",
          "data": {
            "text/plain": [
              "(array([0.31288138, 0.19767132, 0.08908726, 0.05314853, 0.04543797,\n",
              "        0.04167863, 0.03818933, 0.0347609 , 0.03132383, 0.0278874 ],\n",
              "       dtype=float32),\n",
              " [tensor(0.4811),\n",
              "  tensor(0.3464),\n",
              "  tensor(0.2173),\n",
              "  tensor(0.1446),\n",
              "  tensor(0.1136),\n",
              "  tensor(0.0992),\n",
              "  tensor(0.0889),\n",
              "  tensor(0.0806),\n",
              "  tensor(0.0723),\n",
              "  tensor(0.0647)])"
            ]
          },
          "metadata": {},
          "execution_count": 25
        }
      ]
    },
    {
      "cell_type": "code",
      "source": [
        "plt.plot(epoch_count,np.array(torch.tensor(loss_values).numpy()),label=\"Train loss\")\n",
        "plt.plot(epoch_count,test_loss_values,label=\"Test loss\")\n",
        "plt.title(\"Training and test loss curves\")\n",
        "plt.ylabel(\"Loss\")\n",
        "plt.xlabel(\"Epochs\")"
      ],
      "metadata": {
        "colab": {
          "base_uri": "https://localhost:8080/"
        },
        "id": "YwySjwTGCMAZ",
        "outputId": "d151e071-0e31-47f7-d7ab-1d112532e6cb"
      },
      "execution_count": null,
      "outputs": [
        {
          "output_type": "execute_result",
          "data": {
            "text/plain": [
              "Text(0.5, 0, 'Epochs')"
            ]
          },
          "metadata": {},
          "execution_count": 26
        },
        {
          "output_type": "display_data",
          "data": {
            "text/plain": [
              "<Figure size 640x480 with 1 Axes>"
            ],
            "image/png": "[encoded data removed]"
          },
          "metadata": {}
        }
      ]
    },
    {
      "cell_type": "code",
      "source": [
        "plot_predictions(predictions=y_preds)"
      ],
      "metadata": {
        "colab": {
          "base_uri": "https://localhost:8080/"
        },
        "id": "8PIEeDgO7Rfk",
        "outputId": "f14b8619-d1dc-4f09-905e-a6253f418285"
      },
      "execution_count": null,
      "outputs": [
        {
          "output_type": "display_data",
          "data": {
            "text/plain": [
              "<Figure size 1000x700 with 1 Axes>"
            ],
            "image/png": "[encoded data removed]"
          },
          "metadata": {}
        }
      ]
    },
    {
      "cell_type": "code",
      "source": [
        "plot_predictions(predictions=y_preds_new)"
      ],
      "metadata": {
        "colab": {
          "base_uri": "https://localhost:8080/"
        },
        "id": "2OTmgV1U7ULl",
        "outputId": "2eed4bed-570c-446a-b802-0ed597e5a3e8"
      },
      "execution_count": null,
      "outputs": [
        {
          "output_type": "display_data",
          "data": {
            "text/plain": [
              "<Figure size 1000x700 with 1 Axes>"
            ],
            "image/png": "[encoded data removed]"
          },
          "metadata": {}
        }
      ]
    },
    {
      "cell_type": "markdown",
      "source": [
        "#Saving a Model"
      ],
      "metadata": {
        "id": "aCp33ZhTFwYE"
      }
    },
    {
      "cell_type": "code",
      "source": [
        "# Saving a Pytorch Model\n",
        "from pathlib import Path\n",
        "\n",
        "#Create Model Directory\n",
        "Model_Path=Path(\"Models\")\n",
        "Model_Path.mkdir(parents=True,exist_ok=True)\n",
        "\n",
        "#Model Save Path\n",
        "Model_name= \"01_pytorch_workflow_model_0.pth\"\n",
        "modelsavepath=Model_Path/ Model_name\n",
        "print(f\"Saving Model to : {modelsavepath}\")\n",
        "torch.save(obj=model_0.state_dict(),\n",
        "           f=modelsavepath)"
      ],
      "metadata": {
        "colab": {
          "base_uri": "https://localhost:8080/"
        },
        "id": "GvEUg1xjFyZE",
        "outputId": "42b3424a-6942-4a5b-d8ee-dea28651bcd6"
      },
      "execution_count": null,
      "outputs": [
        {
          "output_type": "stream",
          "name": "stdout",
          "text": [
            "Saving Model to : Models/01_pytorch_workflow_model_0.pth\n"
          ]
        }
      ]
    },
    {
      "cell_type": "code",
      "source": [
        "ls -1 Models"
      ],
      "metadata": {
        "colab": {
          "base_uri": "https://localhost:8080/"
        },
        "id": "BZ1RpFfkYaB-",
        "outputId": "5ab2b7c3-bb73-4728-b0c0-52973f86c1b3"
      },
      "execution_count": null,
      "outputs": [
        {
          "output_type": "stream",
          "name": "stdout",
          "text": [
            "01_pytorch_workflow_model_0.pth\n"
          ]
        }
      ]
    },
    {
      "cell_type": "code",
      "source": [
        "torch.load(f=modelsavepath)"
      ],
      "metadata": {
        "colab": {
          "base_uri": "https://localhost:8080/"
        },
        "id": "66eTeNbUYoeN",
        "outputId": "95592ca6-7ba1-4ee7-9b11-95599d8d39f1"
      },
      "execution_count": null,
      "outputs": [
        {
          "output_type": "execute_result",
          "data": {
            "text/plain": [
              "OrderedDict([('weights', tensor([0.5784])), ('bias', tensor([0.3513]))])"
            ]
          },
          "metadata": {},
          "execution_count": 31
        }
      ]
    },
    {
      "cell_type": "code",
      "source": [
        "loaded_model_0=LinearRegressionModel()\n",
        "loaded_model_0.load_state_dict(torch.load(f=modelsavepath))"
      ],
      "metadata": {
        "colab": {
          "base_uri": "https://localhost:8080/"
        },
        "id": "7sHR23smYwns",
        "outputId": "79b2c6a0-fc9a-4eeb-a3cf-0b16c3a9f156"
      },
      "execution_count": null,
      "outputs": [
        {
          "output_type": "execute_result",
          "data": {
            "text/plain": [
              "<All keys matched successfully>"
            ]
          },
          "metadata": {},
          "execution_count": 32
        }
      ]
    },
    {
      "cell_type": "code",
      "source": [
        "loaded_model_0.state_dict()"
      ],
      "metadata": {
        "colab": {
          "base_uri": "https://localhost:8080/"
        },
        "id": "-GeebykDZcvN",
        "outputId": "e603c214-0f3a-4902-b89b-5c72c2205749"
      },
      "execution_count": null,
      "outputs": [
        {
          "output_type": "execute_result",
          "data": {
            "text/plain": [
              "OrderedDict([('weights', tensor([0.5784])), ('bias', tensor([0.3513]))])"
            ]
          },
          "metadata": {},
          "execution_count": 33
        }
      ]
    },
    {
      "cell_type": "code",
      "source": [
        "loaded_model_0.eval()\n",
        "with torch.inference_mode():\n",
        "  loaded_model_pred=loaded_model_0(x_test)\n",
        "loaded_model_pred"
      ],
      "metadata": {
        "colab": {
          "base_uri": "https://localhost:8080/"
        },
        "id": "VwMFiJuUZkzm",
        "outputId": "987438e0-ced9-4ae0-922c-94ee3b6e7e1f"
      },
      "execution_count": null,
      "outputs": [
        {
          "output_type": "execute_result",
          "data": {
            "text/plain": [
              "tensor([0.8141, 0.8256, 0.8372, 0.8488, 0.8603, 0.8719, 0.8835, 0.8950, 0.9066,\n",
              "        0.9182])"
            ]
          },
          "metadata": {},
          "execution_count": 34
        }
      ]
    },
    {
      "cell_type": "code",
      "source": [
        "model_0.eval()\n",
        "with torch.inference_mode():\n",
        "  y_preds=model_0(x_test)\n",
        "y_preds==loaded_model_pred"
      ],
      "metadata": {
        "colab": {
          "base_uri": "https://localhost:8080/"
        },
        "id": "kws-8Bi9Z1K0",
        "outputId": "57bd046c-ba03-4f0e-ef77-e9e35a628797"
      },
      "execution_count": null,
      "outputs": [
        {
          "output_type": "execute_result",
          "data": {
            "text/plain": [
              "tensor([True, True, True, True, True, True, True, True, True, True])"
            ]
          },
          "metadata": {},
          "execution_count": 35
        }
      ]
    },
    {
      "cell_type": "markdown",
      "source": [
        "# Doing it all Again all at once"
      ],
      "metadata": {
        "id": "kSYPDbh4annp"
      }
    },
    {
      "cell_type": "code",
      "source": [
        "## LINEAR REGRESSION MODEL\n",
        "import torch\n",
        "from torch import nn\n",
        "import matplotlib.pyplot as plt\n",
        "import numpy as np\n",
        "\n",
        "torch.__version__\n",
        "device= \"cuda\" if torch.cuda.is_available() else \"cpu\"\n",
        "#1. Building Datasets\n",
        "\n",
        "## Creating data for Linear regression Formula\n",
        "weight = 0.8\n",
        "bias = 0.4\n",
        "## Creating the range values\n",
        "start = 0\n",
        "end = 1\n",
        "step = 0.02\n",
        "## Creating X and Y features\n",
        "X=torch.arange(start,end,step).unsqueeze(dim=1)   # Without unsqeeze errors come\n",
        "y=weight*X+bias\n",
        "print(X[:10])\n",
        "##Splitting the data\n",
        "split_index= int(0.8*len(X))\n",
        "x_train,y_train=X[:split_index],y[:split_index]\n",
        "### print(f\"x train values : {x_train}\")\n",
        "### print(f\"x train values : {y_train}\")\n",
        "x_test,y_test=X[split_index:],y[split_index:]\n",
        "print(f\"x test values : {x_test}\")\n",
        "print(f\"y test values : {y_test}\")\n",
        "print(len(x_train),len(y_train),len(x_test),len(y_test))\n",
        "## Graph making Function\n",
        "def graph_maker(train_data=x_train,\n",
        "                     train_label=y_train,\n",
        "                     test_data=x_test,\n",
        "                     test_label=y_test,\n",
        "                     prediction=None):\n",
        " ## Plots training data and test data and compared prediction\n",
        "  plt.figure(figsize=(10,7))\n",
        "\n",
        "  #blue plot training data\n",
        "  plt.scatter(train_data,train_label,c=\"b\",s=4,label=\"Training Data\")\n",
        "  #Green plot test data\n",
        "  plt.scatter(test_data,test_label,c=\"g\",s=4,label=\"Test Data\")\n",
        "\n",
        "  #Predictions\n",
        "  if prediction is not None:\n",
        "    plt.scatter(test_data,prediction,c=\"r\",s=4,label=\"Predictions\")\n",
        "\n",
        "  #Legend\n",
        "  plt.legend(prop={\"size\": 14});\n",
        "\n",
        "## PLotting the graph using above function\n",
        "graph_maker(x_train,y_train,x_test,y_test)\n",
        "\n",
        "#2. Building a Model linear subclassing nn.module\n",
        "class LinearRegressionModel2(nn.Module):\n",
        "  def __init__(self):\n",
        "    super().__init__()\n",
        "    ## Using nn.Linear instead of creating self.weight using torch.randn\n",
        "    self.layer1=nn.Linear(in_features=1,out_features=1)\n",
        "  def forward(self,x: torch.Tensor) -> torch.Tensor:\n",
        "    return self.layer1(x)\n",
        "# Set Manual Seed\n",
        "torch.manual_seed(42)\n",
        "#Making a Model\n",
        "model1= LinearRegressionModel2()\n",
        "model1 , model1.state_dict()"
      ],
      "metadata": {
        "colab": {
          "base_uri": "https://localhost:8080/",
          "height": 1000
        },
        "id": "_ft1K4LMaqUq",
        "outputId": "735c5d03-0c41-4ad8-e5eb-ec68d69c3722"
      },
      "execution_count": null,
      "outputs": [
        {
          "output_type": "stream",
          "name": "stdout",
          "text": [
            "tensor([[0.0000],\n",
            "        [0.0200],\n",
            "        [0.0400],\n",
            "        [0.0600],\n",
            "        [0.0800],\n",
            "        [0.1000],\n",
            "        [0.1200],\n",
            "        [0.1400],\n",
            "        [0.1600],\n",
            "        [0.1800]])\n",
            "x test values : tensor([[0.8000],\n",
            "        [0.8200],\n",
            "        [0.8400],\n",
            "        [0.8600],\n",
            "        [0.8800],\n",
            "        [0.9000],\n",
            "        [0.9200],\n",
            "        [0.9400],\n",
            "        [0.9600],\n",
            "        [0.9800]])\n",
            "y test values : tensor([[1.0400],\n",
            "        [1.0560],\n",
            "        [1.0720],\n",
            "        [1.0880],\n",
            "        [1.1040],\n",
            "        [1.1200],\n",
            "        [1.1360],\n",
            "        [1.1520],\n",
            "        [1.1680],\n",
            "        [1.1840]])\n",
            "40 40 10 10\n"
          ]
        },
        {
          "output_type": "execute_result",
          "data": {
            "text/plain": [
              "(LinearRegressionModel2(\n",
              "   (layer1): Linear(in_features=1, out_features=1, bias=True)\n",
              " ),\n",
              " OrderedDict([('layer1.weight', tensor([[0.7645]])),\n",
              "              ('layer1.bias', tensor([0.8300]))]))"
            ]
          },
          "metadata": {},
          "execution_count": 36
        },
        {
          "output_type": "display_data",
          "data": {
            "text/plain": [
              "<Figure size 1000x700 with 1 Axes>"
            ],
            "image/png": "[encoded data removed]"
          },
          "metadata": {}
        }
      ]
    },
    {
      "cell_type": "code",
      "source": [
        "#3. Inputting our data and Training it\n",
        "model1.state_dict()\n",
        "## loss function\n",
        "lossfn=nn.L1Loss()\n",
        "## OPTIMIZER\n",
        "optimizer = torch.optim.SGD(params=model1.parameters(),lr=0.01)\n",
        "## Training Loop\n",
        "torch.manual_seed(42)\n",
        "\n",
        "epoch=200\n",
        "for epoch in range(epoch):\n",
        "  # Training loop\n",
        "  model1.train()\n",
        "  # 1. Forward pass\n",
        "  y_pred=model1(x_train)\n",
        "  # 2. loss calculation\n",
        "  loss = lossfn(y_pred,y_train)\n",
        "  # 3. Optimizer zero making\n",
        "  optimizer.zero_grad()\n",
        "  # 4. Back Propagation\n",
        "  loss.backward()\n",
        "  # 5. Optimizer Step\n",
        "  optimizer.step()\n",
        "\n",
        "  #4. Testing or Evaluating the Model\n",
        "  ##Testing Loop\n",
        "  model1.eval()\n",
        "  with torch.inference_mode():\n",
        "    test_pred=model1(x_test)\n",
        "    test_loss=lossfn(test_pred,y_test)\n",
        "  if epoch % 10 == 0:\n",
        "    print(f\"Epoch:{epoch} | Loss : {loss} | Test loss : {test_loss}\")"
      ],
      "metadata": {
        "colab": {
          "base_uri": "https://localhost:8080/"
        },
        "id": "Y1cllvpN16DT",
        "outputId": "0f69fa23-56c1-4a7e-cfc4-7a8e88d26f2e"
      },
      "execution_count": null,
      "outputs": [
        {
          "output_type": "stream",
          "name": "stdout",
          "text": [
            "Epoch:0 | Loss : 0.4161779284477234 | Test loss : 0.38497620820999146\n",
            "Epoch:10 | Loss : 0.30096808075904846 | Test loss : 0.2502663731575012\n",
            "Epoch:20 | Loss : 0.18575818836688995 | Test loss : 0.11555655300617218\n",
            "Epoch:30 | Loss : 0.07054831087589264 | Test loss : 0.019153285771608353\n",
            "Epoch:40 | Loss : 0.03352728486061096 | Test loss : 0.06804587692022324\n",
            "Epoch:50 | Loss : 0.029530202969908714 | Test loss : 0.06738262623548508\n",
            "Epoch:60 | Loss : 0.026068534702062607 | Test loss : 0.06048385053873062\n",
            "Epoch:70 | Loss : 0.022640090435743332 | Test loss : 0.05221130698919296\n",
            "Epoch:80 | Loss : 0.019201401621103287 | Test loss : 0.0439387783408165\n",
            "Epoch:90 | Loss : 0.015766603872179985 | Test loss : 0.03635308891534805\n",
            "Epoch:100 | Loss : 0.012336590327322483 | Test loss : 0.02808058261871338\n",
            "Epoch:110 | Loss : 0.008897785097360611 | Test loss : 0.019808029755949974\n",
            "Epoch:120 | Loss : 0.005464674439281225 | Test loss : 0.012222373858094215\n",
            "Epoch:130 | Loss : 0.0020361326169222593 | Test loss : 0.003271854016929865\n",
            "Epoch:140 | Loss : 0.0070450082421302795 | Test loss : 0.002510643098503351\n",
            "Epoch:150 | Loss : 0.0070450082421302795 | Test loss : 0.002510643098503351\n",
            "Epoch:160 | Loss : 0.0070450082421302795 | Test loss : 0.002510643098503351\n",
            "Epoch:170 | Loss : 0.0070450082421302795 | Test loss : 0.002510643098503351\n",
            "Epoch:180 | Loss : 0.0070450082421302795 | Test loss : 0.002510643098503351\n",
            "Epoch:190 | Loss : 0.0070450082421302795 | Test loss : 0.002510643098503351\n"
          ]
        }
      ]
    },
    {
      "cell_type": "code",
      "source": [
        "model1.eval()\n",
        "\n",
        "#Make Predictions on test data\n",
        "with torch.inference_mode():\n",
        "  y_preds=model1(x_test)\n",
        "y_preds\n",
        "# Visuaalizing after Training\n",
        "graph_maker(prediction=y_preds)"
      ],
      "metadata": {
        "colab": {
          "base_uri": "https://localhost:8080/",
          "height": 472
        },
        "id": "GRgnP7Ham5Fc",
        "outputId": "54ac3170-8e27-4ec8-ec9e-36041cee0192"
      },
      "execution_count": null,
      "outputs": [
        {
          "output_type": "display_data",
          "data": {
            "text/plain": [
              "<Figure size 1000x700 with 1 Axes>"
            ],
            "image/png": "[encoded data removed]"
          },
          "metadata": {}
        }
      ]
    },
    {
      "cell_type": "code",
      "source": [
        "# Saving the above Model\n",
        "from pathlib import Path\n",
        "model_path=Path(\"Models\")\n",
        "model_path.mkdir(parents=True,exist_ok=True)\n",
        "\n",
        "#model save path\n",
        "model_name=\"01pytorch_workflow_model_1.pth\"\n",
        "model_save_path= model_path/model_name\n",
        "model_save_path\n",
        "\n",
        "#save model dict\n",
        "print(f\"Saving model to : {model_save_path}\")\n",
        "torch.save(obj=model1.state_dict(),f=model_save_path)"
      ],
      "metadata": {
        "colab": {
          "base_uri": "https://localhost:8080/"
        },
        "id": "2bDo0aKYtytd",
        "outputId": "c8b5e35f-1671-4532-9c64-bb78cf02612f"
      },
      "execution_count": null,
      "outputs": [
        {
          "output_type": "stream",
          "name": "stdout",
          "text": [
            "Saving model to : Models/01pytorch_workflow_model_1.pth\n"
          ]
        }
      ]
    },
    {
      "cell_type": "code",
      "source": [
        "#loading a model\n",
        "loaded_model1=LinearRegressionModel2()\n",
        "\n",
        "# loading it\n",
        "loaded_model1.load_state_dict(torch.load(model_save_path))\n",
        "#\n"
      ],
      "metadata": {
        "colab": {
          "base_uri": "https://localhost:8080/"
        },
        "id": "TrbUnkICwhvJ",
        "outputId": "c0c81bc9-a421-46e1-bff7-12efe7679577"
      },
      "execution_count": null,
      "outputs": [
        {
          "output_type": "execute_result",
          "data": {
            "text/plain": [
              "<All keys matched successfully>"
            ]
          },
          "metadata": {},
          "execution_count": 41
        }
      ]
    },
    {
      "cell_type": "code",
      "source": [
        "loaded_model1.state_dict()"
      ],
      "metadata": {
        "colab": {
          "base_uri": "https://localhost:8080/"
        },
        "id": "vNDeieBdwyXf",
        "outputId": "22af5645-cb47-43be-bf81-fa0b06d80700"
      },
      "execution_count": null,
      "outputs": [
        {
          "output_type": "execute_result",
          "data": {
            "text/plain": [
              "OrderedDict([('layer1.weight', tensor([[0.7922]])),\n",
              "             ('layer1.bias', tensor([0.3960]))])"
            ]
          },
          "metadata": {},
          "execution_count": 42
        }
      ]
    },
    {
      "cell_type": "code",
      "source": [
        "loaded_model1.eval()\n",
        "with torch.inference_mode():\n",
        "  loaded_model1_preds=loaded_model1(x_test)\n",
        "y_preds == loaded_model1_preds\n"
      ],
      "metadata": {
        "colab": {
          "base_uri": "https://localhost:8080/"
        },
        "id": "2hAYiCHCw8o1",
        "outputId": "c82624c3-0f12-45db-8e47-a04a12d6fd55"
      },
      "execution_count": null,
      "outputs": [
        {
          "output_type": "execute_result",
          "data": {
            "text/plain": [
              "tensor([[True],\n",
              "        [True],\n",
              "        [True],\n",
              "        [True],\n",
              "        [True],\n",
              "        [True],\n",
              "        [True],\n",
              "        [True],\n",
              "        [True],\n",
              "        [True]])"
            ]
          },
          "metadata": {},
          "execution_count": 47
        }
      ]
    }
  ]
}